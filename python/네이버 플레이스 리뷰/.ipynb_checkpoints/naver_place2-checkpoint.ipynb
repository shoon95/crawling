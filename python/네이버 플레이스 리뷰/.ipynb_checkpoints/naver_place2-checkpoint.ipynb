{
 "cells": [
  {
   "cell_type": "code",
   "execution_count": null,
   "metadata": {},
   "outputs": [],
   "source": [
    "from bs4 import BeautifulSoup\n",
    "from selenium import webdriver\n",
    "import requests\n",
    "import pandas as pd\n",
    "import re\n",
    "import math\n",
    "from selenium.webdriver.common.action_chains import ActionChains\n",
    "import time\n",
    "import json\n",
    "import os, sys\n",
    "\n",
    "\n",
    "def program(text):\n",
    "    \n",
    "    options = webdriver.ChromeOptions()\n",
    "    # options.headless = True\n",
    "    options.add_argument(\"window-size=1920x1080\")\n",
    "\n",
    "    if getattr(sys, 'frozen', False):\n",
    "        chromedriver_path = os.path.join(sys._MEIPASS, \"chromedriver.exe\")\n",
    "        driver = webdriver.Chrome(chromedriver_path,options=options)\n",
    "    else:\n",
    "        driver = webdriver.Chrome(options=options)\n",
    "    \n",
    "    url_base = 'https://map.naver.com/v5/search/'\n",
    "    \n",
    "    url = 'https://map.naver.com/v5/search/'+text\n",
    "    \n",
    "    driver.get(url)\n",
    "    \n",
    "    time.sleep(1)\n",
    "    \n",
    "    iframe = driver.find_element_by_xpath('/html/body/app/layout/div[3]/div[2]/shrinkable-layout/div/app-base/search-layout/div[2]/entry-layout/entry-place-bridge/div/nm-external-frame-bridge/nm-iframe/iframe')\n",
    "    driver.switch_to.frame(iframe)\n",
    "    \n",
    "    time.sleep(1)\n",
    "    \n",
    "    review_clk = driver.find_element_by_xpath('/html/body/div[3]/div/div[2]/div[3]/div/div/div/div/a[3]/span')\n",
    "    \n",
    "    if review_clk.text=='리뷰':\n",
    "        review_clk.click()\n",
    "    else:\n",
    "        return('리뷰가 없습니다')\n",
    "    \n",
    "    time.sleep(1)\n",
    "    \n",
    "    shop_title = driver.find_element_by_class_name('_2msz7').text\n",
    "    \n",
    "    count = int(driver.find_element_by_xpath('//*[@id=\"app-root\"]/div/div[2]/div[5]/div[4]/div[4]/h2/span').text)\n",
    "    \n",
    "    review_star = driver.find_element_by_class_name('hRJcF').text\n",
    "    \n",
    "    frame_star=pd.DataFrame(data=[review_star],columns=['별점'])\n",
    "    frame_title=pd.DataFrame(data=[shop_title],columns=['상호명'])\n",
    "    frame_count = pd.DataFrame(data=[count],columns=['리뷰 수'])\n",
    "\n",
    "    return(pd.concat([frame_title,frame_star,frame_count],axis=1))\n",
    "\n",
    "\n",
    "\n"
   ]
  },
  {
   "cell_type": "code",
   "execution_count": null,
   "metadata": {},
   "outputs": [],
   "source": []
  },
  {
   "cell_type": "code",
   "execution_count": null,
   "metadata": {},
   "outputs": [],
   "source": [
    "program('서울 관악구 관악로28길 11 BBQ 치킨 봉천우성점')"
   ]
  },
  {
   "cell_type": "code",
   "execution_count": null,
   "metadata": {},
   "outputs": [],
   "source": []
  },
  {
   "cell_type": "code",
   "execution_count": null,
   "metadata": {},
   "outputs": [],
   "source": []
  },
  {
   "cell_type": "code",
   "execution_count": null,
   "metadata": {},
   "outputs": [],
   "source": []
  },
  {
   "cell_type": "code",
   "execution_count": null,
   "metadata": {},
   "outputs": [],
   "source": [
    "options = webdriver.ChromeOptions()\n",
    "# options.headless = True\n",
    "options.add_argument(\"window-size=1920x1080\")\n",
    "\n",
    "if getattr(sys, 'frozen', False):\n",
    "    chromedriver_path = os.path.join(sys._MEIPASS, \"chromedriver.exe\")\n",
    "    driver = webdriver.Chrome(chromedriver_path,options=options)\n",
    "else:\n",
    "    driver = webdriver.Chrome(options=options)"
   ]
  },
  {
   "cell_type": "code",
   "execution_count": null,
   "metadata": {},
   "outputs": [],
   "source": [
    "if driver.find_element_by_xpath('//*[@id=\"container\"]/shrinkable-layout/div/app-base/search-layout/div[2]/entry-layout/entry-address/div/div[2]/div/div[1]/div[2]/div[1]/button[1]').text=='출발':\n",
    "    print('네')"
   ]
  }
 ],
 "metadata": {
  "kernelspec": {
   "display_name": "Python 3",
   "language": "python",
   "name": "python3"
  },
  "language_info": {
   "codemirror_mode": {
    "name": "ipython",
    "version": 3
   },
   "file_extension": ".py",
   "mimetype": "text/x-python",
   "name": "python",
   "nbconvert_exporter": "python",
   "pygments_lexer": "ipython3",
   "version": "3.8.5"
  }
 },
 "nbformat": 4,
 "nbformat_minor": 4
}
