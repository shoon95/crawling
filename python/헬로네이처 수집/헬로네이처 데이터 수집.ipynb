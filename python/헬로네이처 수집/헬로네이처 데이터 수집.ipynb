{
 "cells": [
  {
   "cell_type": "code",
   "execution_count": null,
   "metadata": {},
   "outputs": [],
   "source": [
    "import chromedriver_autoinstaller\n",
    "from selenium import webdriver\n",
    "import pandas as pd\n",
    "import re\n",
    "import math\n",
    "import time\n",
    "import os, sys\n",
    "import requests\n",
    "import numpy as np\n",
    "from bs4 import BeautifulSoup as bs\n",
    "from selenium.webdriver.common.action_chains import ActionChains\n",
    "from selenium.webdriver import ActionChains"
   ]
  },
  {
   "cell_type": "code",
   "execution_count": null,
   "metadata": {},
   "outputs": [],
   "source": [
    "### 크롬드라이버 자동 설치 및 업데이트 후 실행 함수\n",
    "\n",
    "def open_chromedriver():\n",
    "    \n",
    "    #현재 작업 디렉토리에 크롬드라이버 설치 또는 업데이트\n",
    "    chrome = chromedriver_autoinstaller.install(os.getcwd()) \n",
    "    options = webdriver.ChromeOptions()\n",
    "    \n",
    "    ### 크롬 드라이버 옵션 헤드리스 추가(크롬 창 숨기기), options.headless =True의 주석처리하면 작업 중인 크롬창 확인 가능\n",
    "    options.headless = True \n",
    "    \n",
    "    \n",
    "    ### 옵션 추가한 채로 크롬 드라이버 실행\n",
    "    driver = webdriver.Chrome(options=options) \n",
    "    return(driver)\n"
   ]
  },
  {
   "cell_type": "code",
   "execution_count": null,
   "metadata": {},
   "outputs": [],
   "source": [
    "### 대 카테고리 url 수집 함수\n",
    "\n",
    "def get_category_url():\n",
    "    \n",
    "    ###페이지에서 전체상품의 xpath 값 가져와서 해당 위치 찾고 클릭\n",
    "    driver.find_element_by_xpath('//*[@id=\"wrap\"]/header/ul/li[1]/em').click() \n",
    "\n",
    "    title = []\n",
    "    link = []\n",
    "    \n",
    "    ### 전체상품엑서 대카테고리 이름과 url 가져오기\n",
    "    for i in driver.find_elements_by_xpath('//*[@id=\"menuCate\"]/li[*]'): \n",
    "        title.append(i.text)\n",
    "        link.append(i.find_element_by_tag_name('a').get_attribute('href'))\n",
    "    df = {'title':title, 'link':link}\n",
    "    df = pd.DataFrame(df)\n",
    "\n",
    "    text_1 = []\n",
    "    link_1 = []\n",
    "    up = []\n",
    "    \n",
    "    \n",
    "    for i in range(0,len(df)):\n",
    "        \n",
    "        ###대카테고리로 이동\n",
    "        driver.get(df['link'][i]) \n",
    "\n",
    "        time.sleep(0.5)\n",
    "        \n",
    "        ###대카테고리에서 하위 카테고리 이름과 링크 수집\n",
    "        for j in driver.find_elements_by_xpath('//*[@id=\"sub_ctg\"]/li[*]/a'): \n",
    "            text_1.append(j.text)\n",
    "            link_1.append(j.get_attribute('onclick'))\n",
    "        \n",
    "        up.extend([df['title'][i]]*len(driver.find_elements_by_xpath('//*[@id=\"sub_ctg\"]/li[*]/a')))\n",
    "\n",
    "    df = pd.DataFrame({'대카테고리':up,'서브카테고리':text_1,'서브카테고리 링크':link_1})\n",
    "    return(df)"
   ]
  },
  {
   "cell_type": "code",
   "execution_count": null,
   "metadata": {},
   "outputs": [],
   "source": [
    "### 페이지 내리는 함수\n",
    "\n",
    "def page_scroll_down():\n",
    "    \n",
    "    ### 페이지 두 번 새로고침(페이지가 느려서 렉 걸리는 경우를 방지하기 위해)\n",
    "    driver.refresh()\n",
    "    driver.refresh()\n",
    "    \n",
    "    time.sleep(0.8)\n",
    "    while True:\n",
    "        \n",
    "        ### 해당 카테고리의 상품 수를 product_num 이라는 변수로 선언\n",
    "        product_num = int(driver.find_element_by_xpath('//*[@id=\"dpItemListWrap\"]/h3/span').text)\n",
    "        \n",
    "        ### 페이지 끝까지 내려서 상품 더 확인하고 페이지를 끝까지 내려도 상품 수가 변하지 않으면\n",
    "        ### 마지막 페이지로 인식하고 페이지 내리는 작업 종료\n",
    "        driver.execute_script(\"window.scrollTo(0, document.body.scrollHeight)\")\n",
    "        time.sleep(0.6)\n",
    "        \n",
    "        print(len(driver.find_elements_by_xpath('//*[@id=\"dpItemList\"]/li[*]')),'/',product_num)\n",
    "\n",
    "        if product_num ==len(driver.find_elements_by_xpath('//*[@id=\"dpItemList\"]/li[*]')):\n",
    "            break\n",
    "        if product_num < len(driver.find_elements_by_xpath('//*[@id=\"dpItemList\"]/li[*]')):\n",
    "            driver.refresh()\n",
    "            driver.refresh()\n",
    "            driver.refresh()\n",
    "            time.sleep(0.8)\n",
    "    return(product_num)"
   ]
  },
  {
   "cell_type": "code",
   "execution_count": null,
   "metadata": {},
   "outputs": [],
   "source": [
    "### 태그 수집하는 함수\n",
    "\n",
    "def get_tag():\n",
    "    tag = []\n",
    "    for i in range(1,product_num+1):\n",
    "        temp=[]\n",
    "        \n",
    "        ###태그의 xpath값 찾아서 해당 데이터 가져온 후 값이 없으면 NULL 있으면 해당 텍스트 가져오기\n",
    "        for j in driver.find_elements_by_xpath('//*[@id=\"dpItemList\"]/li[%d]/div/div[1]/a/div[2]/div[*]/span' %i) :\n",
    "            if len(j.text)==0:\n",
    "                temp.append('NULL')\n",
    "            else:\n",
    "                temp.append(j.text)\n",
    "        tag.append(temp)\n",
    "    return(tag)"
   ]
  },
  {
   "cell_type": "code",
   "execution_count": null,
   "metadata": {},
   "outputs": [],
   "source": [
    "### 상품 링크 가져오는 함수\n",
    "\n",
    "def get_product_link():\n",
    "    product_onclick=[]\n",
    "    \n",
    "    ###상품들의 링크(onclick 값) xpath 값 가져와서 해당 데이터 가져오기\n",
    "    for i in driver.find_elements_by_xpath('//*[@id=\"dpItemList\"]/li[*]/div/div[1]/a'):\n",
    "        product_onclick.append(i.get_attribute('onclick'))\n",
    "    return(product_onclick)"
   ]
  },
  {
   "cell_type": "code",
   "execution_count": null,
   "metadata": {},
   "outputs": [],
   "source": [
    "### 상품 이름 가져오는 함수\n",
    "def get_prd_name():\n",
    "    \n",
    "    ### 상품 이름에 해당하는 class값 가져와서 데이터 수집\n",
    "    name = driver.find_element_by_class_name('prd_name').text\n",
    "    return(name)"
   ]
  },
  {
   "cell_type": "code",
   "execution_count": null,
   "metadata": {},
   "outputs": [],
   "source": [
    "### 상품 가격 가져오는 함수\n",
    "def get_prd_price():\n",
    "    \n",
    "    ### 상품 가격에 해당하는 xpath값 가져와서 해당 부분 텍스트 가져온 후 '원'은 삭제해서 숫자만 남기기\n",
    "    price=driver.find_element_by_xpath('//*[@id=\"afterCost\"]').text\n",
    "    price = re.sub('원','',price)\n",
    "    return(price)"
   ]
  },
  {
   "cell_type": "code",
   "execution_count": null,
   "metadata": {},
   "outputs": [],
   "source": [
    "### 상품 좋아요 수 가져오는 함수\n",
    "def get_prd_like():\n",
    "    \n",
    "    ###상품 좋아요에 해당하는 부분의 class 가져와서 텍스트 값 가져오기\n",
    "    like = driver.find_element_by_class_name('prd_like').text\n",
    "    return(like)"
   ]
  },
  {
   "cell_type": "code",
   "execution_count": null,
   "metadata": {},
   "outputs": [],
   "source": [
    "### 배송 관련 정보 가져오는 함수\n",
    "def get_prd_deliver():\n",
    "    \n",
    "    ### 배송 관련 정보에 해당하는 class값 가져와서 해당 텍스트 수집, 없다면 NULL값 추가\n",
    "    try:\n",
    "        deliver = driver.find_element_by_class_name('prd_deliver').text\n",
    "    except:\n",
    "        deliver=\"NULL\"\n",
    "    return(deliver)"
   ]
  },
  {
   "cell_type": "code",
   "execution_count": null,
   "metadata": {},
   "outputs": [],
   "source": [
    "## 상품 상세 정보 가져오는 함수\n",
    "def get_prd_spec():\n",
    "    spec_col = []\n",
    "    spec_data = []\n",
    "    \n",
    "    ### 상품 상세정보에서 tag 값이 'dt' 부분이 열 이름이므로 해당 부분 가져오기\n",
    "    for i in driver.find_element_by_class_name('prd_spec').find_elements_by_tag_name('dt'):\n",
    "        spec_col.append(i.text)\n",
    "        \n",
    "    ### 상품 상세정보에서 tag 값이 'dd' 부분이 데이터에 해당함으로 해당 부분 가져오기\n",
    "    for i in driver.find_element_by_class_name('prd_spec').find_elements_by_tag_name('dd'):\n",
    "        spec_data.append(i.text)\n",
    "        \n",
    "    ### 열이름에 해당하는 부분과 데이터에 해당하는 부분 합쳐서 데이터 프레임으로 만들기\n",
    "    spec = pd.DataFrame([spec_data], columns=spec_col)\n",
    "    return(spec)"
   ]
  },
  {
   "cell_type": "code",
   "execution_count": null,
   "metadata": {},
   "outputs": [],
   "source": [
    "### 상품 혜택 정보 가져오는 함수\n",
    "def get_prd_flag():\n",
    "    \n",
    "    ### 상품 혜택 정보에 해당하는 class값 가져와서 text 데이터 추출, 없다면 NULL값 추가\n",
    "    try:\n",
    "        flag=driver.find_element_by_class_name('flag').text\n",
    "    except:\n",
    "        flag = 'NULL'\n",
    "    return(flag)"
   ]
  },
  {
   "cell_type": "code",
   "execution_count": null,
   "metadata": {},
   "outputs": [],
   "source": [
    "### 리뷰 숫자 가져오는 함수\n",
    "\n",
    "def get_review_num():\n",
    "    \n",
    "    ###구매 후기에 해당하는 xpath값 가져와서 텍스트 추출\n",
    "    num =driver.find_element_by_xpath('//*[@id=\"reviewTitle\"]/h3/span').text\n",
    "    return(num)"
   ]
  },
  {
   "cell_type": "code",
   "execution_count": null,
   "metadata": {},
   "outputs": [],
   "source": [
    "### 전체 구매후기 보기 위치로 페이지 스크롤 밑 전체 구매 후기 보기 클릭하는 함수\n",
    "def review_all() :\n",
    "    \n",
    "    ### 상품 문의 xpath 값 가져와서 label 변수 선언하고 해당 위치로 페이지 이동\n",
    "    ### 크롬 드라이버를 사용하여 클릭할 때 해당 위치가 화면에 보이지 않으면 클릭되지 않는 에러를 없애기 위해\n",
    "    action = ActionChains(driver)\n",
    "    label = driver.find_element_by_xpath('//*[@id=\"qnaTitle\"]/h3')\n",
    "    action.move_to_element(label).perform()\n",
    "    \n",
    "    ### 전체 구매 후기 버튼 클릭\n",
    "    driver.find_element_by_xpath('//*[@id=\"buyAfterListCount\"]').click() \n",
    "    time.sleep(1.5)"
   ]
  },
  {
   "cell_type": "code",
   "execution_count": null,
   "metadata": {},
   "outputs": [],
   "source": [
    "### 리뷰가 전체가 보일 수 있도록 스크롤 내리는 함수\n",
    "\n",
    "def review_page_scroll():\n",
    "    while True:\n",
    "        \n",
    "        ### num에 현재 리뷰 수를 선언하고 페이지를 내렸을 때 현재와 리뷰 수가 같다면 페이지 내리기 중단\n",
    "        num = len(driver.find_elements_by_xpath('//*[@id=\"container\"]/article/div/ul/li[*]'))\n",
    "        print(num)\n",
    "        \n",
    "        driver.execute_script(\"window.scrollTo(0, document.body.scrollHeight)\")\n",
    "        time.sleep(0.3)\n",
    "\n",
    "        if num ==len(driver.find_elements_by_xpath('//*[@id=\"container\"]/article/div/ul/li[*]')):\n",
    "            break"
   ]
  },
  {
   "cell_type": "code",
   "execution_count": null,
   "metadata": {},
   "outputs": [],
   "source": [
    "### 리뷰 아이디 가져오기\n",
    "\n",
    "def get_review_id():\n",
    "    review_id = []\n",
    "    \n",
    "    ### 리뷰 아이디의 class 값으로 데이터 가져오고 데이터가 없다면 NULL 추가\n",
    "    for i in driver.find_elements_by_class_name('name'):\n",
    "        try:\n",
    "            text=re.split('\\n',i.text)[0]\n",
    "            if len(text)!=0:\n",
    "                review_id.append(text)\n",
    "            else:\n",
    "                review_id.append('NULL')\n",
    "        except:\n",
    "            review_id.append('NULL')\n",
    "    return(review_id)"
   ]
  },
  {
   "cell_type": "code",
   "execution_count": null,
   "metadata": {},
   "outputs": [],
   "source": [
    "### 리뷰 날짜 가져오기\n",
    "\n",
    "def get_review_date():\n",
    "    date=[]\n",
    "    \n",
    "    ### 리뷰 날짜의 class 값으로 데이터 가져오고 데이터가 없다면 NULL 추가\n",
    "    for i in driver.find_elements_by_class_name('date'):\n",
    "        try:\n",
    "            text= i.text\n",
    "            if len(text)!=0:\n",
    "                date.append(text)\n",
    "            else:\n",
    "                date.append('NULL')\n",
    "        except:\n",
    "            date.append(\"NULL\")\n",
    "        \n",
    "    return(date)"
   ]
  },
  {
   "cell_type": "code",
   "execution_count": null,
   "metadata": {},
   "outputs": [],
   "source": [
    "### 리뷰 만족 가져오기\n",
    "\n",
    "def get_review_satisfied():\n",
    "    review_satisfied = []\n",
    "    \n",
    "    ### 리뷰의 만족도에 해당하는 class 값 가져오고 데이터가 없다면 NULL 추가\n",
    "    for i in driver.find_elements_by_class_name('name'):\n",
    "        try:\n",
    "            text = re.split('\\n',i.text)[1]\n",
    "            if len(text)!=0:\n",
    "                review_satisfied.append(text)\n",
    "        except:\n",
    "            review_satisfied.append('NULL')\n",
    "    return(review_satisfied)"
   ]
  },
  {
   "cell_type": "code",
   "execution_count": null,
   "metadata": {},
   "outputs": [],
   "source": [
    "### 리뷰 내용 가져오는 함수\n",
    "\n",
    "def get_review_contents():\n",
    "    review_contents=[]\n",
    "    \n",
    "    ### 리뷰 내용의 class 값 가져와서 해당 부분의 데이터 추출\n",
    "    for i in driver.find_elements_by_class_name('txt'):\n",
    "        review_contents.append(i.text)\n",
    "    return(review_contents)"
   ]
  },
  {
   "cell_type": "code",
   "execution_count": null,
   "metadata": {},
   "outputs": [],
   "source": [
    "### 원격 크롬 창 실행 후 driver에 변수 선언\n",
    "\n",
    "driver = open_chromedriver() "
   ]
  },
  {
   "cell_type": "code",
   "execution_count": null,
   "metadata": {},
   "outputs": [],
   "source": [
    "### 헬로네이쳐 페이지로 이동\n",
    "\n",
    "driver.get('https://www.hellonature.co.kr/')"
   ]
  },
  {
   "cell_type": "code",
   "execution_count": null,
   "metadata": {},
   "outputs": [],
   "source": [
    "### 팝업창 떠있으면 닫기 누르고 없으면 취소\n",
    "\n",
    "try:\n",
    "    driver.find_element_by_xpath('//*[@id=\"mainPop3\"]/div/a').click()\n",
    "except:\n",
    "    None"
   ]
  },
  {
   "cell_type": "code",
   "execution_count": null,
   "metadata": {},
   "outputs": [],
   "source": [
    "df = get_category_url()"
   ]
  },
  {
   "cell_type": "code",
   "execution_count": null,
   "metadata": {},
   "outputs": [],
   "source": [
    "num = 0\n",
    "tag=[]\n",
    "product_link=[]\n",
    "up=[]\n",
    "\n",
    "for i in df['서브카테고리 링크']:\n",
    "    num=num+1\n",
    "    \n",
    "    print(num,'/',len(df))\n",
    "    \n",
    "    driver.refresh()\n",
    "    \n",
    "    time.sleep(1)\n",
    "    \n",
    "    driver.execute_script(i)\n",
    "    \n",
    "    time.sleep(1)\n",
    "    \n",
    "    product_num = page_scroll_down()\n",
    "    \n",
    "    tag.extend(get_tag())\n",
    "    product_link.extend(get_product_link())\n",
    "    up.extend([i]*int(product_num))\n",
    "    \n",
    "    print(len(tag),len(up),len(product_link))"
   ]
  },
  {
   "cell_type": "code",
   "execution_count": null,
   "metadata": {},
   "outputs": [],
   "source": [
    "df1=pd.DataFrame({'태그':tag,'서브카테고리 링크':up,'상품 링크':product_link})"
   ]
  },
  {
   "cell_type": "code",
   "execution_count": null,
   "metadata": {},
   "outputs": [],
   "source": [
    "df2=pd.merge(df, df1,how='right')"
   ]
  },
  {
   "cell_type": "code",
   "execution_count": null,
   "metadata": {},
   "outputs": [],
   "source": [
    "df2_1=df2[df2['서브카테고리']=='전체']"
   ]
  },
  {
   "cell_type": "code",
   "execution_count": null,
   "metadata": {},
   "outputs": [],
   "source": [
    "df2_2 = df2[df2['서브카테고리']!='전체']"
   ]
  },
  {
   "cell_type": "code",
   "execution_count": null,
   "metadata": {},
   "outputs": [],
   "source": [
    "prd_name =[]\n",
    "prd_price=[]\n",
    "prd_like=[]\n",
    "prd_deliver=[]\n",
    "prd_spec = pd.DataFrame()\n",
    "prd_flag =[]\n",
    "review_num = []\n",
    "review_id =[]\n",
    "review_date =[]\n",
    "review_satisfied=[]\n",
    "review_contents=[]\n",
    "matching_key1= []\n",
    "matching_key2 = []\n",
    "num=0\n",
    "for i in df2_1['상품 링크']:\n",
    "    num=num+1\n",
    "    print(num,'/',len(df2_1))\n",
    "    driver.execute_script(i)\n",
    "    \n",
    "    time.sleep(0.5)\n",
    "\n",
    "    prd_name.append(get_prd_name())\n",
    "    prd_price.append(get_prd_price())\n",
    "    prd_like.append(get_prd_like())\n",
    "    prd_deliver.append(get_prd_deliver())\n",
    "    prd_spec= pd.concat([prd_spec,get_prd_spec()],axis=0)\n",
    "    prd_flag.append(get_prd_flag())\n",
    "    temp=get_review_num()\n",
    "    review_num.append(temp)\n",
    "    matching_key1.append(i)\n",
    "    \n",
    "    if int(re.sub('[^0-9]','',temp))==0:\n",
    "        review_id.append('')\n",
    "        review_date.append('')\n",
    "        review_satisfied.append('')\n",
    "        review_contents.append('')\n",
    "        matching_key2.append(i)\n",
    "        continue\n",
    "        \n",
    "    review_all()\n",
    "\n",
    "        \n",
    "    review_page_scroll()\n",
    "\n",
    "    review_id.extend(get_review_id())\n",
    "    review_date.extend(get_review_date())\n",
    "    review_satisfied.extend(get_review_satisfied())\n",
    "    review_contents.extend(get_review_contents())\n",
    "    \n",
    "    matching_key2.extend([i]*int(re.sub('[^0-9]','',temp)))\n",
    "    \n",
    "    driver.back()\n",
    "    driver.refresh()\n",
    "    \n",
    "    time.sleep(0.5)\n",
    "\n",
    "    if num%50==0:\n",
    "        driver.quit()\n",
    "\n",
    "        driver = open_chromedriver()\n",
    "\n",
    "        driver.get('https://www.hellonature.co.kr/fdp001.do?goTo=dpItemList&gubunFlag=D&pageSize=10&filterYn=N&ctgrCd=010000&dpItemListCntYn=Y&page=1')\n",
    "\n",
    "        time.sleep(2)"
   ]
  },
  {
   "cell_type": "code",
   "execution_count": null,
   "metadata": {},
   "outputs": [],
   "source": [
    "prd_flag=['' if value=='답변완료' else value for value in prd_flag]"
   ]
  },
  {
   "cell_type": "code",
   "execution_count": null,
   "metadata": {},
   "outputs": [],
   "source": [
    "prd_flag=['NULL' if value=='' else value for value in prd_flag]"
   ]
  },
  {
   "cell_type": "code",
   "execution_count": null,
   "metadata": {},
   "outputs": [],
   "source": [
    "frame1 = pd.DataFrame({'prd_name':prd_name,'prd_price':prd_price,'prd_like':prd_like,'prd_deliver':prd_deliver,'prd_flag':prd_flag,\n",
    "'review_num':review_num,'matching_key1':matching_key1})"
   ]
  },
  {
   "cell_type": "code",
   "execution_count": null,
   "metadata": {},
   "outputs": [],
   "source": [
    "prd_spec=prd_spec.reset_index().drop(['index'],axis=1)"
   ]
  },
  {
   "cell_type": "code",
   "execution_count": null,
   "metadata": {},
   "outputs": [],
   "source": [
    "frame1 = pd.concat([frame1, prd_spec], axis=1)"
   ]
  },
  {
   "cell_type": "code",
   "execution_count": null,
   "metadata": {},
   "outputs": [],
   "source": [
    "frame2=pd.DataFrame({'review_id':review_id,'review_date':review_date,'review_satisfied':review_satisfied,'revie_contents':review_contents,'matching_key2':matching_key2})"
   ]
  },
  {
   "cell_type": "code",
   "execution_count": null,
   "metadata": {},
   "outputs": [],
   "source": [
    "frame3=pd.merge(frame1,frame2,how='right',left_on = 'matching_key1',right_on='matching_key2')"
   ]
  },
  {
   "cell_type": "code",
   "execution_count": null,
   "metadata": {},
   "outputs": [],
   "source": [
    "frame3=frame3.drop(['matching_key2'],axis=1)"
   ]
  },
  {
   "cell_type": "code",
   "execution_count": null,
   "metadata": {},
   "outputs": [],
   "source": [
    "frame = pd.merge(df2_2, frame3, how='right', left_on = '상품 링크',right_on='matching_key1')"
   ]
  },
  {
   "cell_type": "code",
   "execution_count": null,
   "metadata": {},
   "outputs": [],
   "source": [
    "writer = pd.ExcelWriter('hellonatrue.xlsx', engine='xlsxwriter', options={'strings_to_urls': True})\n",
    "frame.to_excel(writer)\n",
    "writer.close()"
   ]
  }
 ],
 "metadata": {
  "kernelspec": {
   "display_name": "Python 3",
   "language": "python",
   "name": "python3"
  },
  "language_info": {
   "codemirror_mode": {
    "name": "ipython",
    "version": 3
   },
   "file_extension": ".py",
   "mimetype": "text/x-python",
   "name": "python",
   "nbconvert_exporter": "python",
   "pygments_lexer": "ipython3",
   "version": "3.8.5"
  }
 },
 "nbformat": 4,
 "nbformat_minor": 4
}
