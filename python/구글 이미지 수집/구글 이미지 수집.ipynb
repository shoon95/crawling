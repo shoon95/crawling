{
 "cells": [
  {
   "cell_type": "code",
   "execution_count": null,
   "metadata": {},
   "outputs": [],
   "source": [
    "import chromedriver_autoinstaller\n",
    "from selenium import webdriver\n",
    "import os\n",
    "import pandas as pd\n",
    "import time\n",
    "import re\n",
    "from bs4 import BeautifulSoup as bs\n",
    "import os\n",
    "import urllib.request"
   ]
  },
  {
   "cell_type": "code",
   "execution_count": null,
   "metadata": {},
   "outputs": [],
   "source": [
    "def open_chromedriver():\n",
    "    \n",
    "    ### 크롬 드라이버를 자신의 크롬 버전에 맞는 버전으로 자동 설치, 만약 설치 되어있다면 자신의 크롬 버전에 맞게 업데이트\n",
    "    \n",
    "    chrome = chromedriver_autoinstaller.install(os.getcwd())\n",
    "    \n",
    "    ### 크롬 실행 시 적용할 옵션 설정\n",
    "    \n",
    "    options = webdriver.ChromeOptions()\n",
    "    \n",
    "    ### options.headless=True 이 부분의 주석 처리를 제거해서 해당 부분을 적용시키면 크롬 화면을 띄우지 않고 작업 진행 가능\n",
    "    #options.headless = True\n",
    "    \n",
    "    ### driver라는 변수에 chromedriver 원격 함수를 넣음\n",
    "    \n",
    "    driver = webdriver.Chrome(options=options)\n",
    "    return(driver)"
   ]
  },
  {
   "cell_type": "code",
   "execution_count": null,
   "metadata": {},
   "outputs": [],
   "source": [
    "### 크롬 실행 후 함수를 driver 변수에 넣어서 사용\n",
    "\n",
    "driver=open_chromedriver()"
   ]
  },
  {
   "cell_type": "code",
   "execution_count": null,
   "metadata": {
    "scrolled": true
   },
   "outputs": [],
   "source": [
    "keyword=input('키워드를 입력해주세요\\n')"
   ]
  },
  {
   "cell_type": "code",
   "execution_count": null,
   "metadata": {},
   "outputs": [],
   "source": [
    "driver.get('https://www.google.co.kr/imghp?hl=ko')"
   ]
  },
  {
   "cell_type": "code",
   "execution_count": null,
   "metadata": {},
   "outputs": [],
   "source": [
    "driver.find_element_by_xpath('//*[@id=\"sbtc\"]/div/div[2]/input').send_keys(keyword)"
   ]
  },
  {
   "cell_type": "code",
   "execution_count": null,
   "metadata": {},
   "outputs": [],
   "source": [
    "driver.find_element_by_xpath('//*[@id=\"sbtc\"]/button').click()"
   ]
  },
  {
   "cell_type": "code",
   "execution_count": null,
   "metadata": {},
   "outputs": [],
   "source": [
    "img_src=[]\n",
    "num=500\n",
    "while True:\n",
    "    driver.execute_script(\"window.scrollTo(0, %s);\" %num)\n",
    "    time.sleep(0.1)\n",
    "    \n",
    "    try:\n",
    "        driver.find_element_by_xpath('//*[@id=\"islmp\"]/div/div/div/div[1]/div[2]/div[2]/input').click()\n",
    "    except:\n",
    "        None\n",
    "    num+=600\n",
    "    \n",
    "    for i in driver.find_elements_by_xpath('//*[@id=\"islrg\"]/div[1]/div[*]/a[1]/div[1]/img'):\n",
    "        img_src.append(i.get_attribute('src'))\n",
    "        \n",
    "    if driver.find_element_by_xpath('//*[@id=\"islmp\"]/div/div/div/div[1]/div[2]/div[1]/div[2]/div[1]/div').text=='더 이상 표시할 콘텐츠가 없습니다.':\n",
    "        time.sleep(0.1)\n",
    "        driver.execute_script(\"window.scrollTo(0, document.body.scrollHeight);\")\n",
    "        for i in driver.find_elements_by_xpath('//*[@id=\"islrg\"]/div[1]/div[*]/a[1]/div[1]/img'):\n",
    "            img_src.append(i.get_attribute('src'))\n",
    "        break\n",
    "\n"
   ]
  },
  {
   "cell_type": "code",
   "execution_count": null,
   "metadata": {},
   "outputs": [],
   "source": [
    "img_src=set(img_src)"
   ]
  },
  {
   "cell_type": "code",
   "execution_count": null,
   "metadata": {},
   "outputs": [],
   "source": [
    "img_src.remove(None)"
   ]
  },
  {
   "cell_type": "code",
   "execution_count": null,
   "metadata": {},
   "outputs": [],
   "source": [
    "wd_name=input('저장 위치를 입력해주세요\\n')"
   ]
  },
  {
   "cell_type": "code",
   "execution_count": null,
   "metadata": {},
   "outputs": [],
   "source": [
    "os.chdir(wd_name)"
   ]
  },
  {
   "cell_type": "code",
   "execution_count": null,
   "metadata": {},
   "outputs": [],
   "source": [
    "name=[]\n",
    "for i in range(1,len(img_src)+1):\n",
    "    name.append(keyword+str(i)+'.jpeg')"
   ]
  },
  {
   "cell_type": "code",
   "execution_count": null,
   "metadata": {},
   "outputs": [],
   "source": [
    "num=0\n",
    "for i,j in zip(img_src,name):\n",
    "     urllib.request.urlretrieve(i, j)\n",
    "    num+=1\n",
    "    print(num,'/',len(img_src))"
   ]
  }
 ],
 "metadata": {
  "kernelspec": {
   "display_name": "Python 3",
   "language": "python",
   "name": "python3"
  },
  "language_info": {
   "codemirror_mode": {
    "name": "ipython",
    "version": 3
   },
   "file_extension": ".py",
   "mimetype": "text/x-python",
   "name": "python",
   "nbconvert_exporter": "python",
   "pygments_lexer": "ipython3",
   "version": "3.8.5"
  }
 },
 "nbformat": 4,
 "nbformat_minor": 4
}
