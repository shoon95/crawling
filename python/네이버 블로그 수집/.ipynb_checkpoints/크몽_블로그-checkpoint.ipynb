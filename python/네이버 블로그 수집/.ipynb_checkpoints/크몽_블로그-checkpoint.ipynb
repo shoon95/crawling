{
 "cells": [
  {
   "cell_type": "code",
   "execution_count": null,
   "metadata": {},
   "outputs": [],
   "source": [
    "from bs4 import BeautifulSoup\n",
    "from selenium import webdriver\n",
    "import requests\n",
    "import pandas as pd\n",
    "import re\n",
    "import math\n",
    "from selenium.webdriver.common.action_chains import ActionChains\n",
    "import time\n",
    "import json\n",
    "import os, sys\n",
    "import random\n",
    "from datetime import date, timedelta\n",
    " \n"
   ]
  },
  {
   "cell_type": "code",
   "execution_count": null,
   "metadata": {},
   "outputs": [],
   "source": [
    "options = webdriver.ChromeOptions()\n",
    "# options.headless = True\n",
    "options.add_argument(\"window-size=1920x1080\")\n",
    "\n",
    "if getattr(sys, 'frozen', False):\n",
    "    chromedriver_path = os.path.join(sys._MEIPASS, \"chromedriver.exe\")\n",
    "    driver = webdriver.Chrome(chromedriver_path,options=options)\n",
    "else:\n",
    "    driver = webdriver.Chrome(options=options)\n"
   ]
  },
  {
   "cell_type": "code",
   "execution_count": null,
   "metadata": {},
   "outputs": [],
   "source": [
    "today = date.today()\n",
    "yesterday = today - timedelta(days = 1)"
   ]
  },
  {
   "cell_type": "code",
   "execution_count": null,
   "metadata": {},
   "outputs": [],
   "source": [
    "### 블로그로 이동\n",
    "\n",
    "driver.get('https://blog.naver.com/PostList.nhn?blogId=wishia&categoryNo=0&from=postList')\n",
    "\n",
    "time.sleep(2)"
   ]
  },
  {
   "cell_type": "code",
   "execution_count": null,
   "metadata": {
    "scrolled": true
   },
   "outputs": [],
   "source": [
    "### 리트스 박스 열기\n",
    "\n",
    "driver.find_element_by_xpath('//*[@id=\"listCountToggle\"]/i[2]').click()\n",
    "\n",
    "time.sleep(0.5)"
   ]
  },
  {
   "cell_type": "code",
   "execution_count": null,
   "metadata": {},
   "outputs": [],
   "source": [
    "### 30개씩 보기 고르기\n",
    "\n",
    "driver.find_element_by_xpath('//*[@id=\"changeListCount\"]/a[5]').click()"
   ]
  },
  {
   "cell_type": "code",
   "execution_count": null,
   "metadata": {},
   "outputs": [],
   "source": [
    "### 전체 게시글의 수로 페이지 수 가져오기\n",
    "\n",
    "article_num_base=driver.find_element_by_xpath('//*[@id=\"category-name\"]/div/table[2]/tbody/tr/td[2]/div/h4').text\n",
    "\n",
    "article_num = re.sub('[^0-9]','', article_num_base)\n",
    "page = math.ceil(int(article_num)/30)"
   ]
  },
  {
   "cell_type": "code",
   "execution_count": null,
   "metadata": {},
   "outputs": [],
   "source": [
    "### 페이지 넘어가는 버튼\n",
    "\n",
    "num_1=[]\n",
    "num_2=[]\n",
    "for i in range(1,11):\n",
    "    num_1.append(i)\n",
    "\n",
    "for i in range(2,12):\n",
    "    num_2.append(i)\n",
    "\n",
    "num_2 = num_2*100\n",
    "\n",
    "num = num_1+num_2"
   ]
  },
  {
   "cell_type": "code",
   "execution_count": null,
   "metadata": {
    "scrolled": true
   },
   "outputs": [],
   "source": [
    "title_all = []\n",
    "date_all = []\n",
    "url_all = []\n",
    "\n",
    "page_int = 0\n",
    "\n",
    "for i in num:\n",
    "    \n",
    "    page_int = page_int+1\n",
    "    \n",
    "    ### 제목 가져오기\n",
    "    title = driver.find_elements_by_xpath('//*[@id=\"listTopForm\"]/table/tbody/tr[*]/td[1]/div/span/a')\n",
    "    for k in title:\n",
    "        title_all.append(k.text)\n",
    "    \n",
    "    \n",
    "    url = driver.find_elements_by_xpath('//*[@id=\"listTopForm\"]/table/tbody/tr[*]/td[1]/div/span/a')\n",
    "\n",
    "    ###URL 가져오기\n",
    "    for j in url:\n",
    "        url_all.append(j.get_attribute(\"href\"))\n",
    "        \n",
    "    ### 날짜 가져오기\n",
    "    date=driver.find_elements_by_xpath('//*[@id=\"listTopForm\"]/table/tbody/tr[*]/td[2]/div/span')\n",
    "    \n",
    "    for q in date:\n",
    "        date_base = q.text\n",
    "        \n",
    "        if len(re.findall('[가-힣]',date_base))>0:\n",
    "            if time.localtime()[3]-int(re.sub('[^0-9]','',date_base))<0:\n",
    "                article_date = yesterday.strftime('%Y.%m.%d.')\n",
    "            else :\n",
    "                article_date = today.strftime('%Y.%m.%d.')\n",
    "        else:        \n",
    "            if re.sub(' ','',date_base)[8]=='.':\n",
    "                article_date = re.sub(' ','',date_base)[:8]\n",
    "            elif re.sub(' ','',date_base)[9]=='.':\n",
    "                article_date = re.sub(' ','',date_base)[:9]\n",
    "            else:\n",
    "                article_date = re.sub(' ','',date_base)[:10]\n",
    "\n",
    "        date_all.append(article_date)\n",
    "\n",
    "\n",
    "    \n",
    "    if page_int == page:\n",
    "        break\n",
    "    \n",
    "    driver.find_element_by_xpath('//*[@id=\"toplistWrapper\"]/div[2]/div/a[%d]'%i).click()\n",
    "    time.sleep(1)\n",
    "    \n",
    "driver.quit()\n"
   ]
  },
  {
   "cell_type": "code",
   "execution_count": null,
   "metadata": {},
   "outputs": [],
   "source": [
    "date_all"
   ]
  },
  {
   "cell_type": "code",
   "execution_count": null,
   "metadata": {},
   "outputs": [],
   "source": [
    "header = {\n",
    "    'User-Agent': 'Mozilla/5.0 (Windows NT 10.0; Win64; x64) AppleWebKit/537.36 (KHTML, like Gecko) Chrome/65.0.3325.220 Whale/1.3.51.7 Safari/537.36',\n",
    "}"
   ]
  },
  {
   "cell_type": "code",
   "execution_count": null,
   "metadata": {
    "scrolled": true
   },
   "outputs": [],
   "source": [
    "page = 0\n",
    "content_all=[]\n",
    "check_list=[]\n",
    "for url in url_all:\n",
    "\n",
    "    page= page+1\n",
    "    \n",
    "    print('진행 경과 : '+str(page)+'/'+str(len(url_all)))\n",
    "\n",
    "    res = requests.get(url, headers=header)\n",
    "\n",
    "    if res.status_code==200:\n",
    "        check_list.append('정상')\n",
    "    else:\n",
    "        check_list.append('에러')\n",
    "        continue\n",
    "\n",
    "    ### 2페이지 이상부터 페이지 정보 안가져와졌으면 다시 가져오기\n",
    "\n",
    "    if page>1:\n",
    "        if soup==BeautifulSoup(res.content, 'html.parser'):\n",
    "            while True:\n",
    "                res = requests.get(url_date, headers=header)\n",
    "                if soup!=BeautifulSoup(res.content, 'html.parser'):\n",
    "                    break\n",
    "                    \n",
    "    soup=BeautifulSoup(res.content, 'html.parser')\n",
    "\n",
    "\n",
    "\n",
    "    ### 내용 가져오기\n",
    "    \n",
    "    try:\n",
    "        content=soup.find('div',{'class':'se-main-container'}).text\n",
    "    except:\n",
    "        try:\n",
    "            content=soup.find('div',{'class':'se_component_wrap sect_dsc __se_component_area'}).text\n",
    "        except:\n",
    "            content=soup.find('div',{'id':'postViewArea'}).text\n",
    "\n",
    "    \n",
    "    content_all.append(content)\n",
    "\n",
    "\n",
    "df = {\"날짜\":date_all,\"제목\":title_all,'본문':content_all ,\"URL\" : url_all}\n",
    "df = pd.DataFrame(df)\n",
    "\n",
    "nows = time.localtime()\n",
    "times = str(nows.tm_year) + '-' + str(nows.tm_mon) + '-' + str(nows.tm_mday)\n",
    "name = times + '블로그 수집' +'.xlsx'\n",
    "\n",
    "writer = pd.ExcelWriter(name, engine='xlsxwriter', options={'strings_to_urls': True})\n",
    "df.to_excel(writer)\n",
    "writer.close()"
   ]
  }
 ],
 "metadata": {
  "kernelspec": {
   "display_name": "Python 3",
   "language": "python",
   "name": "python3"
  },
  "language_info": {
   "codemirror_mode": {
    "name": "ipython",
    "version": 3
   },
   "file_extension": ".py",
   "mimetype": "text/x-python",
   "name": "python",
   "nbconvert_exporter": "python",
   "pygments_lexer": "ipython3",
   "version": "3.8.5"
  }
 },
 "nbformat": 4,
 "nbformat_minor": 4
}
