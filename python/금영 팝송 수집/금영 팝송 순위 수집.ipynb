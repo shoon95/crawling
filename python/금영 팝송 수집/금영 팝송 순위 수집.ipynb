{
 "cells": [
  {
   "cell_type": "code",
   "execution_count": null,
   "metadata": {},
   "outputs": [],
   "source": [
    "import datetime as dt\n",
    "import chromedriver_autoinstaller\n",
    "from selenium import webdriver\n",
    "import pandas as pd\n",
    "import re\n",
    "import math\n",
    "import time\n",
    "import os, sys\n",
    "import requests\n",
    "import numpy as np\n",
    "import random\n",
    "from bs4 import BeautifulSoup as bs\n",
    "from selenium.webdriver.common.action_chains import ActionChains\n"
   ]
  },
  {
   "cell_type": "code",
   "execution_count": null,
   "metadata": {},
   "outputs": [],
   "source": [
    "def open_chromedriver():\n",
    "    chrome = chromedriver_autoinstaller.install(os.getcwd())\n",
    "\n",
    "    options = webdriver.ChromeOptions()\n",
    "    # options.headless = True\n",
    "\n",
    "    driver = webdriver.Chrome(options=options)\n",
    "    return(driver)\n"
   ]
  },
  {
   "cell_type": "code",
   "execution_count": null,
   "metadata": {},
   "outputs": [],
   "source": [
    "driver = open_chromedriver()"
   ]
  },
  {
   "cell_type": "code",
   "execution_count": null,
   "metadata": {},
   "outputs": [],
   "source": [
    "rank=[]\n",
    "for i in driver.find_elements_by_xpath('//*[@id=\"popular_chart_frm\"]/div/ul[*]/li[1]/label/span'):\n",
    "    rank.append(i.text)"
   ]
  },
  {
   "cell_type": "code",
   "execution_count": null,
   "metadata": {},
   "outputs": [],
   "source": [
    "for i in driver.find_elements_by_xpath('//*[@id=\"popular_chart_frm\"]/div/ul[*]/li[1]/label/span'):\n",
    "    rank.append(i.text)"
   ]
  },
  {
   "cell_type": "code",
   "execution_count": null,
   "metadata": {},
   "outputs": [],
   "source": [
    "song_num=[]\n",
    "for i in driver.find_elements_by_xpath('//*[@id=\"popular_chart_frm\"]/div/ul[*]/li[2]'):\n",
    "    song_num.append(i.text)"
   ]
  },
  {
   "cell_type": "code",
   "execution_count": null,
   "metadata": {},
   "outputs": [],
   "source": [
    "for i in driver.find_elements_by_xpath('//*[@id=\"popular_chart_frm\"]/div/ul[*]/li[2]'):\n",
    "    song_num.append(i.text)"
   ]
  },
  {
   "cell_type": "code",
   "execution_count": null,
   "metadata": {},
   "outputs": [],
   "source": [
    "song_name=[]\n",
    "for i in driver.find_elements_by_xpath('//*[@id=\"popular_chart_frm\"]/div/ul[*]/li[3]/span[1]'):\n",
    "    song_name.append(i.text)"
   ]
  },
  {
   "cell_type": "code",
   "execution_count": null,
   "metadata": {},
   "outputs": [],
   "source": [
    "for i in driver.find_elements_by_xpath('//*[@id=\"popular_chart_frm\"]/div/ul[*]/li[3]/span[1]'):\n",
    "    song_name.append(i.text)"
   ]
  },
  {
   "cell_type": "code",
   "execution_count": null,
   "metadata": {},
   "outputs": [],
   "source": [
    "artist=[]\n",
    "for i in driver.find_elements_by_xpath('//*[@id=\"popular_chart_frm\"]/div/ul[*]/li[4]'):\n",
    "    artist.append(i.text)"
   ]
  },
  {
   "cell_type": "code",
   "execution_count": null,
   "metadata": {},
   "outputs": [],
   "source": [
    "for i in driver.find_elements_by_xpath('//*[@id=\"popular_chart_frm\"]/div/ul[*]/li[4]'):\n",
    "    artist.append(i.text)"
   ]
  },
  {
   "cell_type": "code",
   "execution_count": null,
   "metadata": {},
   "outputs": [],
   "source": [
    "writer=[]\n",
    "for i in driver.find_elements_by_xpath('//*[@id=\"popular_chart_frm\"]/div/ul[*]/li[5]'):\n",
    "    writer.append(i.text)"
   ]
  },
  {
   "cell_type": "code",
   "execution_count": null,
   "metadata": {},
   "outputs": [],
   "source": [
    "for i in driver.find_elements_by_xpath('//*[@id=\"popular_chart_frm\"]/div/ul[*]/li[5]'):\n",
    "    writer.append(i.text)"
   ]
  },
  {
   "cell_type": "code",
   "execution_count": null,
   "metadata": {},
   "outputs": [],
   "source": [
    "pub=[]\n",
    "for i in driver.find_elements_by_xpath('//*[@id=\"popular_chart_frm\"]/div/ul[*]/li[7]'):\n",
    "    pub.append(i.text)"
   ]
  },
  {
   "cell_type": "code",
   "execution_count": null,
   "metadata": {},
   "outputs": [],
   "source": [
    "for i in driver.find_elements_by_xpath('//*[@id=\"popular_chart_frm\"]/div/ul[*]/li[7]'):\n",
    "    pub.append(i.text)"
   ]
  },
  {
   "cell_type": "code",
   "execution_count": null,
   "metadata": {},
   "outputs": [],
   "source": [
    "song_name.remove('')"
   ]
  },
  {
   "cell_type": "code",
   "execution_count": null,
   "metadata": {},
   "outputs": [],
   "source": [
    "pub.remove('출시일')"
   ]
  },
  {
   "cell_type": "code",
   "execution_count": null,
   "metadata": {},
   "outputs": [],
   "source": [
    "artist.remove('아티스트')"
   ]
  },
  {
   "cell_type": "code",
   "execution_count": null,
   "metadata": {},
   "outputs": [],
   "source": [
    "song_num.remove('곡번호')"
   ]
  },
  {
   "cell_type": "code",
   "execution_count": null,
   "metadata": {},
   "outputs": [],
   "source": [
    "song_num.remove('웹플레이어 다운로드 +')"
   ]
  },
  {
   "cell_type": "code",
   "execution_count": null,
   "metadata": {},
   "outputs": [],
   "source": [
    "writer.remove('작곡가')"
   ]
  },
  {
   "cell_type": "code",
   "execution_count": null,
   "metadata": {},
   "outputs": [],
   "source": [
    "len(song_name)"
   ]
  },
  {
   "cell_type": "code",
   "execution_count": null,
   "metadata": {},
   "outputs": [],
   "source": [
    "len(pub)"
   ]
  },
  {
   "cell_type": "code",
   "execution_count": null,
   "metadata": {},
   "outputs": [],
   "source": [
    "len(artist)"
   ]
  },
  {
   "cell_type": "code",
   "execution_count": null,
   "metadata": {},
   "outputs": [],
   "source": [
    "len(song_num)"
   ]
  },
  {
   "cell_type": "code",
   "execution_count": null,
   "metadata": {},
   "outputs": [],
   "source": [
    "len(writer)"
   ]
  },
  {
   "cell_type": "code",
   "execution_count": null,
   "metadata": {},
   "outputs": [],
   "source": [
    "data=pd.DataFrame({'순위':rank,'곡번호':song_num,'곡명':song_name,'아티스트':artist,'작곡가':writer,'출시일':pub})"
   ]
  },
  {
   "cell_type": "code",
   "execution_count": null,
   "metadata": {},
   "outputs": [],
   "source": [
    "data"
   ]
  },
  {
   "cell_type": "code",
   "execution_count": null,
   "metadata": {},
   "outputs": [],
   "source": []
  },
  {
   "cell_type": "code",
   "execution_count": null,
   "metadata": {},
   "outputs": [],
   "source": [
    "writer = pd.ExcelWriter(r'금영 팝송.xlsx', engine='xlsxwriter', options={'strings_to_urls': True})\n",
    "data.to_excel(writer)\n",
    "writer.close()"
   ]
  }
 ],
 "metadata": {
  "kernelspec": {
   "display_name": "Python 3",
   "language": "python",
   "name": "python3"
  },
  "language_info": {
   "codemirror_mode": {
    "name": "ipython",
    "version": 3
   },
   "file_extension": ".py",
   "mimetype": "text/x-python",
   "name": "python",
   "nbconvert_exporter": "python",
   "pygments_lexer": "ipython3",
   "version": "3.8.5"
  }
 },
 "nbformat": 4,
 "nbformat_minor": 4
}
