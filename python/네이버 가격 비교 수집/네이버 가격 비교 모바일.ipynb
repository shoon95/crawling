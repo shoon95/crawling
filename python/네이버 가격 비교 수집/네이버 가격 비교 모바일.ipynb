{
 "cells": [
  {
   "cell_type": "code",
   "execution_count": null,
   "metadata": {},
   "outputs": [],
   "source": [
    "from selenium import webdriver\n",
    "import pandas as pd\n",
    "import time\n",
    "import os\n",
    "import chromedriver_autoinstaller\n",
    "import numpy as np\n",
    "from bs4 import BeautifulSoup\n",
    "import os\n",
    "import re"
   ]
  },
  {
   "cell_type": "code",
   "execution_count": null,
   "metadata": {},
   "outputs": [],
   "source": [
    "def open_chromedriver():\n",
    "    chrome = chromedriver_autoinstaller.install(os.getcwd())\n",
    "\n",
    "    options = webdriver.ChromeOptions()\n",
    "    # options.headless = True\n",
    "\n",
    "    driver = webdriver.Chrome(options=options)\n",
    "    return(driver)"
   ]
  },
  {
   "cell_type": "code",
   "execution_count": null,
   "metadata": {},
   "outputs": [],
   "source": [
    "def get_seller_name():\n",
    "    name=[]\n",
    "    for i in driver.find_elements_by_xpath('//*[@id=\"section-price\"]/ul/li[*]/div[1]/div/div[1]/span[1]/span[1]'):\n",
    "        name.append(i.text)\n",
    "    return(name)"
   ]
  },
  {
   "cell_type": "code",
   "execution_count": null,
   "metadata": {},
   "outputs": [],
   "source": [
    "def get_price():\n",
    "    price=[]\n",
    "    for i in driver.find_elements_by_xpath('//*[@id=\"section-price\"]/ul/li[*]/div[1]/div/div[1]/span[2]/span'):\n",
    "        price.append(re.sub('원|,','',i.text))\n",
    "    return(price)"
   ]
  },
  {
   "cell_type": "code",
   "execution_count": null,
   "metadata": {},
   "outputs": [],
   "source": [
    "def get_delivery_price():\n",
    "    delivery_price=[]\n",
    "    for i in driver.find_elements_by_xpath('//*[@id=\"section-price\"]/ul/li[*]/div[1]/div/div[2]/div[2]/span'):\n",
    "        delivery_price.append(re.sub('배송비\\n|,','',i.text))\n",
    "    return(delivery_price)"
   ]
  },
  {
   "cell_type": "code",
   "execution_count": null,
   "metadata": {},
   "outputs": [],
   "source": [
    "driver = open_chromedriver()"
   ]
  },
  {
   "cell_type": "code",
   "execution_count": null,
   "metadata": {},
   "outputs": [],
   "source": [
    "driver.get('https://msearch.shopping.naver.com/catalog/25166275522')"
   ]
  },
  {
   "cell_type": "code",
   "execution_count": null,
   "metadata": {},
   "outputs": [],
   "source": [
    "seller_name=[]\n",
    "price=[]\n",
    "delivery_price=[]\n",
    "option=[]\n",
    "title=[]"
   ]
  },
  {
   "cell_type": "code",
   "execution_count": null,
   "metadata": {},
   "outputs": [],
   "source": [
    "num=0\n",
    "if len(driver.find_elements_by_xpath('//*[@id=\"section-price\"]/div[4]/div/div/button[*]'))==0:\n",
    "    \n",
    "    try:\n",
    "        option_text=driver.find_element_by_xpath('//*[@id=\"section-price\"]/div[4]/em').text\n",
    "    except:\n",
    "        option_text= '옵션 없음'\n",
    "    seller_name.extend(get_seller_name())\n",
    "    price.extend(get_price())\n",
    "    delivery_price.extend(get_delivery_price())\n",
    "    option.extend([option_text]*len(get_price()))\n",
    "    \n",
    "    title_base=driver.find_element_by_xpath('//*[@id=\"__next\"]/div/div[2]/div/div[1]/h2').text\n",
    "    title = [title_base]*len(price)\n",
    "    \n",
    "else:\n",
    "    for i in driver.find_elements_by_xpath('//*[@id=\"section-price\"]/div[4]/div/div/button[*]'):\n",
    "        i.click()\n",
    "        time.sleep(0.5)\n",
    "\n",
    "        option_text=re.findall('[0-9]+개',i.text)\n",
    "\n",
    "        seller_name.extend(get_seller_name())\n",
    "        price.extend(get_price())\n",
    "        delivery_price.extend(get_delivery_price())\n",
    "        option.extend(option_text*len(get_price()))\n",
    "\n",
    "        num=num+1\n",
    "        print(num,'/',len(driver.find_elements_by_xpath('//*[@id=\"section-price\"]/div[4]/div/div/button[*]')))\n",
    "    title_base=driver.find_element_by_xpath('//*[@id=\"__next\"]/div/div[2]/div/div[1]/h2').text\n",
    "    title = [title_base]*len(price)\n",
    "\n"
   ]
  },
  {
   "cell_type": "code",
   "execution_count": null,
   "metadata": {},
   "outputs": [],
   "source": [
    "pd.DataFrame({'상품명':title,'옵션':option,'판매처':seller_name,'판매가':price,'배송비':delivery_price})"
   ]
  }
 ],
 "metadata": {
  "kernelspec": {
   "display_name": "Python 3",
   "language": "python",
   "name": "python3"
  },
  "language_info": {
   "codemirror_mode": {
    "name": "ipython",
    "version": 3
   },
   "file_extension": ".py",
   "mimetype": "text/x-python",
   "name": "python",
   "nbconvert_exporter": "python",
   "pygments_lexer": "ipython3",
   "version": "3.8.5"
  }
 },
 "nbformat": 4,
 "nbformat_minor": 4
}
