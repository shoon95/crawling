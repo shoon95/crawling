{
 "cells": [
  {
   "cell_type": "code",
   "execution_count": null,
   "metadata": {},
   "outputs": [],
   "source": [
    "from selenium import webdriver\n",
    "import pandas as pd\n",
    "import time\n",
    "import os\n",
    "import chromedriver_autoinstaller\n",
    "import numpy as np\n",
    "from bs4 import BeautifulSoup\n",
    "import os\n",
    "import re"
   ]
  },
  {
   "cell_type": "code",
   "execution_count": null,
   "metadata": {},
   "outputs": [],
   "source": [
    "def open_chromedriver():\n",
    "    chrome = chromedriver_autoinstaller.install(os.getcwd())\n",
    "\n",
    "    options = webdriver.ChromeOptions()\n",
    "    # options.headless = True\n",
    "\n",
    "    driver = webdriver.Chrome(options=options)\n",
    "    return(driver)"
   ]
  },
  {
   "cell_type": "code",
   "execution_count": null,
   "metadata": {},
   "outputs": [],
   "source": [
    "def get_seller_name():\n",
    "    name = []\n",
    "    for i in driver.find_elements_by_xpath('//*[@id=\"__next\"]/div/div[2]/div[2]/div[2]/div[1]/div/div[2]/div[2]/table/tbody/tr[*]/td[1]/div/a'):\n",
    "        if i.text!='':\n",
    "            name.append(i.text)\n",
    "        else:\n",
    "            name.append(i.find_element_by_tag_name('img').get_attribute('alt'))\n",
    "    return(name)"
   ]
  },
  {
   "cell_type": "code",
   "execution_count": null,
   "metadata": {},
   "outputs": [],
   "source": [
    "def get_price():\n",
    "    price = []\n",
    "    for i in driver.find_elements_by_xpath('//*[@id=\"__next\"]/div/div[2]/div[2]/div[2]/div[1]/div/div[2]/div[2]/table/tbody/tr[*]/td[2]/a/em'):\n",
    "        price.append(re.sub(',','',i.text))\n",
    "    return(price)"
   ]
  },
  {
   "cell_type": "code",
   "execution_count": null,
   "metadata": {},
   "outputs": [],
   "source": [
    "def get_delivery_price():\n",
    "    delivery_price = []\n",
    "    for i in driver.find_elements_by_xpath('//*[@id=\"__next\"]/div/div[2]/div[2]/div[2]/div[1]/div/div[2]/div[2]/table/tbody/tr[*]/td[3]'):\n",
    "        delivery_price.append(re.sub('원|,','',i.text))\n",
    "    return(delivery_price)\n"
   ]
  },
  {
   "cell_type": "code",
   "execution_count": null,
   "metadata": {},
   "outputs": [],
   "source": [
    "def view_more_clk():\n",
    "    driver.find_element_by_xpath('//*[@id=\"__next\"]/div/div[2]/div[2]/div[2]/div[1]/div/div[2]/div[2]/div/div/div[2]/a').click()\n",
    "    "
   ]
  },
  {
   "cell_type": "code",
   "execution_count": null,
   "metadata": {},
   "outputs": [],
   "source": [
    "driver = open_chromedriver()"
   ]
  },
  {
   "cell_type": "code",
   "execution_count": null,
   "metadata": {},
   "outputs": [],
   "source": [
    "seller_name=[]\n",
    "price=[]\n",
    "delivery_price=[]\n",
    "option=[]\n",
    "title=[]"
   ]
  },
  {
   "cell_type": "code",
   "execution_count": null,
   "metadata": {},
   "outputs": [],
   "source": [
    "driver.get('https://search.shopping.naver.com/catalog/25166275522')"
   ]
  },
  {
   "cell_type": "code",
   "execution_count": null,
   "metadata": {},
   "outputs": [],
   "source": [
    "try:\n",
    "    view_more_clk()\n",
    "except:\n",
    "    None\n",
    "time.sleep(1)\n",
    "num=0\n",
    "try:\n",
    "    driver.find_elements_by_xpath('//*[@id=\"__next\"]/div/div[2]/div[2]/div[2]/div[1]/div/div[2]/div[2]/div/div/div[2]/ul/li[*]/label')[0].click()\n",
    "    time.sleep(0.5)\n",
    "    for i in driver.find_elements_by_xpath('//*[@id=\"__next\"]/div/div[2]/div[2]/div[2]/div[1]/div/div[2]/div[2]/div/div/div[2]/ul/li[*]/label'):\n",
    "        i.click()\n",
    "        option_text=i.text\n",
    "        time.sleep(0.5)\n",
    "\n",
    "        seller_name.extend(get_seller_name())\n",
    "        price.extend(get_price())\n",
    "        delivery_price.extend(get_delivery_price())\n",
    "        option.extend([option_text]*len(get_price()))\n",
    "\n",
    "        num=num+1\n",
    "        print(num,'/',len(driver.find_elements_by_xpath('//*[@id=\"__next\"]/div/div[2]/div[2]/div[2]/div[1]/div/div[2]/div[2]/div/div/div[2]/ul/li[*]/label')))\n",
    "    title_base=driver.find_element_by_xpath('//*[@id=\"__next\"]/div/div[2]/div[2]/div[1]/h2').text\n",
    "    title = [title_base]*len(price)\n",
    "except:\n",
    "    option_text='옵션 없음'\n",
    "    time.sleep(0.5)\n",
    "\n",
    "    seller_name.extend(get_seller_name())\n",
    "    price.extend(get_price())\n",
    "    delivery_price.extend(get_delivery_price())\n",
    "    option.extend([option_text]*len(get_price()))\n",
    "\n",
    "    title_base=driver.find_element_by_xpath('//*[@id=\"__next\"]/div/div[2]/div[2]/div[1]/h2').text\n",
    "    title = [title_base]*len(price)"
   ]
  },
  {
   "cell_type": "code",
   "execution_count": null,
   "metadata": {},
   "outputs": [],
   "source": [
    "pd.DataFrame({'상품명':title,'옵션':option,'판매처':seller_name,'판매가':price,'배송비':delivery_price})"
   ]
  }
 ],
 "metadata": {
  "kernelspec": {
   "display_name": "Python 3",
   "language": "python",
   "name": "python3"
  },
  "language_info": {
   "codemirror_mode": {
    "name": "ipython",
    "version": 3
   },
   "file_extension": ".py",
   "mimetype": "text/x-python",
   "name": "python",
   "nbconvert_exporter": "python",
   "pygments_lexer": "ipython3",
   "version": "3.8.5"
  }
 },
 "nbformat": 4,
 "nbformat_minor": 4
}
