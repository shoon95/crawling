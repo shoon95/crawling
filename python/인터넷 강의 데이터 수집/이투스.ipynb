{
 "cells": [
  {
   "cell_type": "code",
   "execution_count": null,
   "metadata": {},
   "outputs": [],
   "source": [
    "import chromedriver_autoinstaller\n",
    "from selenium import webdriver\n",
    "import pandas as pd\n",
    "import re\n",
    "import math\n",
    "import time\n",
    "import os, sys\n",
    "import requests\n",
    "import numpy as np\n",
    "import random\n",
    "from bs4 import BeautifulSoup as bs\n",
    "from selenium.webdriver.common.action_chains import ActionChains\n"
   ]
  },
  {
   "cell_type": "code",
   "execution_count": null,
   "metadata": {},
   "outputs": [],
   "source": [
    "def open_chromedriver():\n",
    "    chrome = chromedriver_autoinstaller.install(os.getcwd())\n",
    "\n",
    "    options = webdriver.ChromeOptions()\n",
    "    # options.headless = True\n",
    "\n",
    "    driver = webdriver.Chrome(options=options)\n",
    "    return(driver)\n"
   ]
  },
  {
   "cell_type": "code",
   "execution_count": null,
   "metadata": {},
   "outputs": [],
   "source": [
    "def get_name():\n",
    "    name_all = []\n",
    "    for i in driver.find_elements_by_xpath('//*[@id=\"divL_AJAX\"]/ul/li[*]/div/div/div[2]/span'):\n",
    "        name_all.append(i.text)\n",
    "        \n",
    "    return(name_all)"
   ]
  },
  {
   "cell_type": "code",
   "execution_count": null,
   "metadata": {},
   "outputs": [],
   "source": [
    "def get_complete():\n",
    "    complete=[]\n",
    "    for i in driver.find_elements_by_xpath('//*[@id=\"divL_AJAX\"]/ul/li[*]/div/div/div[3]/div[1]/img[1]'):\n",
    "        if i.get_attribute('alt') == '완강':\n",
    "            complete.append('O')\n",
    "        else :\n",
    "            complete.append('X')\n",
    "    return(complete)"
   ]
  },
  {
   "cell_type": "code",
   "execution_count": null,
   "metadata": {},
   "outputs": [],
   "source": [
    "def get_title():\n",
    "    title_all = []\n",
    "    for i in driver.find_elements_by_xpath('//*[@id=\"divL_AJAX\"]/ul/li[*]/div/div/div[3]/a[1]'):\n",
    "        title_all.append(i.text)\n",
    "        \n",
    "    return(title_all)"
   ]
  },
  {
   "cell_type": "code",
   "execution_count": null,
   "metadata": {},
   "outputs": [],
   "source": [
    "def get_link():\n",
    "    link_all = []\n",
    "    for i in driver.find_elements_by_xpath('//*[@id=\"divL_AJAX\"]/ul/li[*]/div/div/div[3]/a[1]'):\n",
    "        link_all.append(i.get_attribute('href'))\n",
    "        \n",
    "    return(link_all)"
   ]
  },
  {
   "cell_type": "code",
   "execution_count": null,
   "metadata": {},
   "outputs": [],
   "source": [
    "def get_lec_id(link_all):\n",
    "    lec_id_all=[]\n",
    "    for i in link_all:\n",
    "        lec_id_all.append(re.split('=',i)[1])\n",
    "        \n",
    "    return(lec_id_all)"
   ]
  },
  {
   "cell_type": "code",
   "execution_count": null,
   "metadata": {},
   "outputs": [],
   "source": [
    "def get_data_2(link_all):\n",
    "    data_2=[]\n",
    "    num=0\n",
    "    for link in link_all:\n",
    "        \n",
    "        time.sleep(random.random())\n",
    "        \n",
    "        num=num+1\n",
    "        print('강의 구성 수집 중',num,'/',len(link_all))\n",
    "        table=pd.read_html(link)\n",
    "\n",
    "        for i in table:\n",
    "            if list(i.columns)[0]!='강의명':\n",
    "                continue\n",
    "            else:\n",
    "                table=i\n",
    "                break\n",
    "\n",
    "        if type(table)==list:\n",
    "            data_2.extend(['강의 업로드 없음'])\n",
    "            continue\n",
    "\n",
    "\n",
    "\n",
    "        table=table.iloc[:,0:2]\n",
    "        try:\n",
    "            table = table[table.iloc[:,1].str.contains('[0-9]분')]\n",
    "\n",
    "            list1 = list(range(1,len(table)+1))\n",
    "            list2 = list(table.iloc[:,0])\n",
    "            list3 = list(table.iloc[:,1])\n",
    "            data_2.append([','.join(['(' + str(a) + ', ' + b+')' for a,b in zip(list1,list2)])])\n",
    "        except:\n",
    "\n",
    "            index_value= list(table.loc[pd.isnull(table).any(1), :].index.values)\n",
    "\n",
    "\n",
    "            table = table.drop(index_value)\n",
    "\n",
    "            table = table[table.iloc[:,1].str.contains('[0-9]분')]\n",
    "\n",
    "            list1 = list(range(1,len(table)+1))\n",
    "            list2 = list(table.iloc[:,0])\n",
    "            list3 = list(table.iloc[:,1])\n",
    "            data_2.append([','.join(['(' + str(a) + ', ' + b+')' for a,b in zip(list1,list2)])])\n",
    "\n",
    "    return(data_2)"
   ]
  },
  {
   "cell_type": "code",
   "execution_count": null,
   "metadata": {},
   "outputs": [],
   "source": [
    "def get_tch_id(link_all):\n",
    "    tch_id =[]\n",
    "    num=0\n",
    "    for i in link_all:\n",
    "        num=num+1\n",
    "        print('teacher_id 수집 중',num,'/',len(link_all))\n",
    "        res= requests.get(i)\n",
    "        soup=bs(res.text, 'html.parser')\n",
    "        tch_id.append(re.split('=',soup.find('span',{'class':'side'}).find('a')['href'])[1])\n",
    "    return(tch_id)\n",
    "        "
   ]
  },
  {
   "cell_type": "code",
   "execution_count": null,
   "metadata": {},
   "outputs": [],
   "source": [
    "driver = open_chromedriver()"
   ]
  },
  {
   "cell_type": "code",
   "execution_count": null,
   "metadata": {},
   "outputs": [],
   "source": [
    "driver.get('https://go3.etoos.com/lecture/mh_list.asp')"
   ]
  },
  {
   "cell_type": "code",
   "execution_count": null,
   "metadata": {},
   "outputs": [],
   "source": [
    "name_all = []\n",
    "complete = []\n",
    "title_all=[]\n",
    "link_all =[]\n",
    "sub_all = []\n",
    "num=0\n",
    "len_xpath = len(driver.find_elements_by_xpath('//*[@id=\"divAJAX_AREA\"]/div/ul[*]/li[*]/a'))\n",
    "for i in range(1,3):\n",
    "    for j in range(1,6):\n",
    "        if i==2 and j==5:\n",
    "            break\n",
    "            \n",
    "        driver.find_element_by_xpath('//*[@id=\"divAJAX_AREA\"]/div/ul[%s]/li[%s]/a' %(i,j)).click()\n",
    "        num=num+1\n",
    "        print('이름, 완강 여부, 강의 제목, 강의 링크, 과목 수집 중',num,'/',len_xpath)\n",
    "        if i==2 and j==2:\n",
    "            for k in range(1,3):\n",
    "                driver.find_element_by_xpath('//*[@id=\"divA_U\"]/ul/li[%s]/a' %k).click()\n",
    "            \n",
    "                time.sleep(5)\n",
    "                \n",
    "            print(driver.find_element_by_xpath('//*[@id=\"divA_U\"]/ul/li[%s]/a' %k).text)\n",
    "\n",
    "\n",
    "            name= get_name()\n",
    "\n",
    "            name_all.extend(name)\n",
    "            link_all.extend(get_link())\n",
    "            complete.extend(get_complete())\n",
    "            title_all.extend(get_title())\n",
    "            sub = driver.find_element_by_xpath('//*[@id=\"divA_U\"]/ul/li[%s]/a' %k).text\n",
    "\n",
    "            sub_all.extend([sub]*len(name))\n",
    "            \n",
    "            if k ==2 :\n",
    "                driver.find_element_by_xpath('//*[@id=\"divAJAX_AREA\"]/div/ul[%s]/li[%s]/a' %(i,j)).click()\n",
    "                \n",
    "                time.sleep(1.5)\n",
    "            \n",
    "        else:\n",
    "            \n",
    "            time.sleep(5)\n",
    "\n",
    "            \n",
    "            print(driver.find_element_by_xpath('//*[@id=\"divAJAX_AREA\"]/div/ul[%s]/li[%s]/a' %(i,j)).text)\n",
    "\n",
    "            name= get_name()\n",
    "\n",
    "            name_all.extend(name)\n",
    "            link_all.extend(get_link())\n",
    "            complete.extend(get_complete())\n",
    "            title_all.extend(get_title())\n",
    "            sub = driver.find_element_by_xpath('//*[@id=\"divAJAX_AREA\"]/div/ul[%s]/li[%s]/a' %(i,j)).text\n",
    "\n",
    "            sub_all.extend([sub]*len(name))"
   ]
  },
  {
   "cell_type": "code",
   "execution_count": null,
   "metadata": {},
   "outputs": [],
   "source": [
    "data_2 = get_data_2(link_all)"
   ]
  },
  {
   "cell_type": "code",
   "execution_count": null,
   "metadata": {},
   "outputs": [],
   "source": [
    "tch_id=get_tch_id(link_all)"
   ]
  },
  {
   "cell_type": "code",
   "execution_count": null,
   "metadata": {},
   "outputs": [],
   "source": [
    "lec_id = get_lec_id(link_all)"
   ]
  },
  {
   "cell_type": "code",
   "execution_count": null,
   "metadata": {},
   "outputs": [],
   "source": []
  },
  {
   "cell_type": "code",
   "execution_count": null,
   "metadata": {},
   "outputs": [],
   "source": [
    "data = pd.DataFrame({'사이트':['이투스']*len(sub_all),'과목':sub_all,'선생님':name_all,'선생님ID':tch_id,'강좌명':title_all,'강좌ID':lec_id,'완강여부':complete,'강의번호&챕터명&시간':data_2,'링크':link_all})"
   ]
  },
  {
   "cell_type": "code",
   "execution_count": null,
   "metadata": {},
   "outputs": [],
   "source": [
    "writer = pd.ExcelWriter(r'이투스.xlsx', engine='xlsxwriter', options={'strings_to_urls': True})\n",
    "data.to_excel(writer)\n",
    "writer.close()"
   ]
  }
 ],
 "metadata": {
  "kernelspec": {
   "display_name": "Python 3",
   "language": "python",
   "name": "python3"
  },
  "language_info": {
   "codemirror_mode": {
    "name": "ipython",
    "version": 3
   },
   "file_extension": ".py",
   "mimetype": "text/x-python",
   "name": "python",
   "nbconvert_exporter": "python",
   "pygments_lexer": "ipython3",
   "version": "3.8.5"
  }
 },
 "nbformat": 4,
 "nbformat_minor": 4
}
