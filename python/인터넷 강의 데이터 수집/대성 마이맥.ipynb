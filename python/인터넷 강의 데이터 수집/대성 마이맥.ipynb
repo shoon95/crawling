{
 "cells": [
  {
   "cell_type": "code",
   "execution_count": null,
   "metadata": {},
   "outputs": [],
   "source": [
    "import chromedriver_autoinstaller\n",
    "from selenium import webdriver\n",
    "import pandas as pd\n",
    "import re\n",
    "import math\n",
    "import time\n",
    "import os, sys\n",
    "import requests\n",
    "import numpy as np\n",
    "from bs4 import BeautifulSoup as bs\n",
    "from selenium.webdriver.common.action_chains import ActionChains\n"
   ]
  },
  {
   "cell_type": "code",
   "execution_count": null,
   "metadata": {},
   "outputs": [],
   "source": [
    "def open_chromedriver():\n",
    "    chrome = chromedriver_autoinstaller.install(os.getcwd())\n",
    "\n",
    "    options = webdriver.ChromeOptions()\n",
    "    options.headless = True\n",
    "\n",
    "    driver = webdriver.Chrome(options=options)\n",
    "    return(driver)\n"
   ]
  },
  {
   "cell_type": "code",
   "execution_count": null,
   "metadata": {},
   "outputs": [],
   "source": [
    "def get_tch_home():\n",
    "    link=[]\n",
    "    for i in driver.find_elements_by_class_name('tlistarea'):\n",
    "        for j in i.find_elements_by_tag_name('li'):\n",
    "            try:\n",
    "                link.append(j.find_element_by_tag_name('a').get_attribute('href'))\n",
    "            except:\n",
    "                break\n",
    "    link=list(set(link))\n",
    "    print(len(link))\n",
    "    return(link)"
   ]
  },
  {
   "cell_type": "code",
   "execution_count": null,
   "metadata": {},
   "outputs": [],
   "source": [
    "def get_lec_link(tch_home):\n",
    "    lec_link=[]\n",
    "    num=0\n",
    "    for j in tch_home:\n",
    "        num=num+1\n",
    "        \n",
    "        print(num,'/',len(tch_home))\n",
    "        \n",
    "        driver.get(j)\n",
    "        \n",
    "        time.sleep(1)\n",
    "        \n",
    "        for i in driver.find_elements_by_xpath('//*[@id=\"tcherLctrList\"]/div/div[4]/div[*]/table/tbody/tr/td[3]/a'):\n",
    "            lec_link.append(i.get_attribute('href'))\n",
    "    return(lec_link)"
   ]
  },
  {
   "cell_type": "code",
   "execution_count": null,
   "metadata": {},
   "outputs": [],
   "source": [
    "#과목\n",
    "def get_sub():\n",
    "    sub=re.split('\\n',soup.find('div',{'id':'tcdHome'}).find('h2').get_text())[0]\n",
    "    return(sub)"
   ]
  },
  {
   "cell_type": "code",
   "execution_count": null,
   "metadata": {},
   "outputs": [],
   "source": [
    "#선생님 이름\n",
    "def get_tch_name():\n",
    "    tch_name=soup.find('strong',{'class':'teacher_home'}).find('span').text\n",
    "    return(tch_name)"
   ]
  },
  {
   "cell_type": "code",
   "execution_count": null,
   "metadata": {},
   "outputs": [],
   "source": [
    "#선생님 id\n",
    "def get_tch_id():\n",
    "    tch_id=re.split('tcd=',soup.find('strong',{'class':'teacher_home'}).find('a')['href'])[1]\n",
    "    return(tch_id)"
   ]
  },
  {
   "cell_type": "code",
   "execution_count": null,
   "metadata": {},
   "outputs": [],
   "source": [
    "#강의 id\n",
    "def get_lec_id(i):\n",
    "    lec_id=re.split('=',i)[1]\n",
    "    return(lec_id)"
   ]
  },
  {
   "cell_type": "code",
   "execution_count": null,
   "metadata": {},
   "outputs": [],
   "source": [
    "#강의 제목\n",
    "def get_lec_title():\n",
    "    lec_title = soup.find('div',{'class':'titarea'}).find('h3').text\n",
    "    return(lec_title)"
   ]
  },
  {
   "cell_type": "code",
   "execution_count": null,
   "metadata": {},
   "outputs": [],
   "source": [
    "#강의 내용 가져오기\n",
    "\n",
    "def get_data_2():\n",
    "    data_2=[]\n",
    "    list3 =[]\n",
    "    temp=[]\n",
    "    \n",
    "    list2=[]\n",
    "    for t in soup.select('#crclmBody > tr> td.tl'):\n",
    "        list2.append(t.text)\n",
    "        \n",
    "    for t in soup.select('#crclmBody > tr > td'):\n",
    "        temp.append(t.text)\n",
    "\n",
    "    for t in temp:\n",
    "        if len(re.findall('[0-9]분',t))!=0:\n",
    "            list3.append(t)\n",
    "\n",
    "    list1 = list(range(1,len(list2)+1))\n",
    "\n",
    "    data_2.append([','.join(['(' + str(a) + ', ' + b+', '+c+')' for a,b,c in zip(list1,list2,list3)])])\n",
    "    return(data_2)"
   ]
  },
  {
   "cell_type": "code",
   "execution_count": null,
   "metadata": {},
   "outputs": [],
   "source": [
    "# 완강 여부\n",
    "def get_complete():\n",
    "    try:\n",
    "        if re.split('/ ',driver.find_element_by_xpath('//*[@id=\"lecturedetailDiv\"]/div[3]/div[1]/div[2]/div[1]/ul/li[3]').text)[1] ==['제작중']:\n",
    "            complete='X'\n",
    "        else :\n",
    "            complete='O'\n",
    "    except:\n",
    "        complete='표기없음'\n",
    "    return(complete)"
   ]
  },
  {
   "cell_type": "code",
   "execution_count": null,
   "metadata": {},
   "outputs": [],
   "source": [
    "driver= open_chromedriver()"
   ]
  },
  {
   "cell_type": "code",
   "execution_count": null,
   "metadata": {},
   "outputs": [],
   "source": [
    "driver.get('http://www.mimacstudy.com/tcher/home/tcherHomeMain.ds?requestMenuId=MNMN_M004')"
   ]
  },
  {
   "cell_type": "code",
   "execution_count": null,
   "metadata": {},
   "outputs": [],
   "source": [
    "time.sleep(3)"
   ]
  },
  {
   "cell_type": "code",
   "execution_count": null,
   "metadata": {},
   "outputs": [],
   "source": [
    "tch_home = get_tch_home()"
   ]
  },
  {
   "cell_type": "code",
   "execution_count": null,
   "metadata": {},
   "outputs": [],
   "source": [
    "lec_link = get_lec_link(tch_home)"
   ]
  },
  {
   "cell_type": "code",
   "execution_count": null,
   "metadata": {},
   "outputs": [],
   "source": [
    "sub=[]\n",
    "tch_name=[]\n",
    "tch_id=[]\n",
    "lec_id=[]\n",
    "lec_title=[]\n",
    "data_2=[]\n",
    "complete=[]\n",
    "num=0\n",
    "for i in lec_link:\n",
    "    driver.get(i)\n",
    "    \n",
    "    num=num+1\n",
    "    print(num,'/',len(lec_link))\n",
    "    \n",
    "    time.sleep(2)\n",
    "    \n",
    "    data = driver.page_source\n",
    "    \n",
    "    soup = bs(data, 'html.parser')\n",
    "    \n",
    "    \n",
    "    \n",
    "    sub.append(get_sub())\n",
    "    tch_name.append(get_tch_name())\n",
    "    tch_id.append(get_tch_id())\n",
    "    lec_id.append(get_lec_id(i))\n",
    "    lec_title.append(get_lec_title())\n",
    "    complete.append(get_complete())\n",
    "    data_2.extend(get_data_2())\n",
    "    "
   ]
  },
  {
   "cell_type": "code",
   "execution_count": null,
   "metadata": {},
   "outputs": [],
   "source": [
    "pd.DataFrame({'과목':sub,'선생님':tch_name,'선생님ID':tch_id,'강좌명':lec_title,'강좌ID':lec_id,'완강여부':complete,'강의번호&챕터명&시간':data_2})"
   ]
  }
 ],
 "metadata": {
  "kernelspec": {
   "display_name": "Python 3",
   "language": "python",
   "name": "python3"
  },
  "language_info": {
   "codemirror_mode": {
    "name": "ipython",
    "version": 3
   },
   "file_extension": ".py",
   "mimetype": "text/x-python",
   "name": "python",
   "nbconvert_exporter": "python",
   "pygments_lexer": "ipython3",
   "version": "3.8.5"
  }
 },
 "nbformat": 4,
 "nbformat_minor": 4
}
