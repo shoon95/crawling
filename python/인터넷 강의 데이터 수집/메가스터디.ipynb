{
 "cells": [
  {
   "cell_type": "code",
   "execution_count": null,
   "metadata": {},
   "outputs": [],
   "source": [
    "import chromedriver_autoinstaller\n",
    "from selenium import webdriver\n",
    "import pandas as pd\n",
    "import re\n",
    "import math\n",
    "import time\n",
    "import os, sys\n",
    "import requests\n",
    "import numpy as np\n",
    "from bs4 import BeautifulSoup\n",
    "from selenium.webdriver.common.action_chains import ActionChains\n"
   ]
  },
  {
   "cell_type": "code",
   "execution_count": null,
   "metadata": {},
   "outputs": [],
   "source": [
    "header = {'User-Agent': 'Mozilla/5.0 (Windows NT 10.0; Win64; x64) AppleWebKit/537.36 (KHTML, like Gecko) Chrome/65.0.3325.220 Whale/1.3.51.7 Safari/537.36'}"
   ]
  },
  {
   "cell_type": "code",
   "execution_count": null,
   "metadata": {},
   "outputs": [],
   "source": [
    "def open_chromedriver():\n",
    "    chrome = chromedriver_autoinstaller.install(os.getcwd())\n",
    "\n",
    "    options = webdriver.ChromeOptions()\n",
    "    #options.headless = True\n",
    "\n",
    "    driver = webdriver.Chrome(options=options)\n",
    "    return(driver)\n"
   ]
  },
  {
   "cell_type": "code",
   "execution_count": null,
   "metadata": {},
   "outputs": [],
   "source": [
    "def open_popup():\n",
    "    element=driver.find_element_by_xpath('//*[@id=\"megaHead2015\"]/div[1]/div[2]/a[3]')\n",
    "    \n",
    "    actions = ActionChains(driver)\n",
    "    actions.move_to_element(element).perform()\n",
    "    \n",
    "    driver.find_element_by_xpath('//*[@id=\"megaGnb\"]/div[1]/div[2]/a[1]').click()"
   ]
  },
  {
   "cell_type": "code",
   "execution_count": null,
   "metadata": {},
   "outputs": [],
   "source": [
    "def change_frame():\n",
    "    iframe = driver.find_element_by_xpath('//*[@id=\"ifrm_quick_search\"]')\n",
    "    driver.switch_to.frame(iframe)\n",
    "    "
   ]
  },
  {
   "cell_type": "code",
   "execution_count": null,
   "metadata": {},
   "outputs": [],
   "source": [
    "def get_onclick(xpath_value):\n",
    "    get_onclick = []\n",
    "    for i in driver.find_elements_by_xpath(xpath_value):\n",
    "        get_onclick.append(i.get_attribute('onclick'))\n",
    "        \n",
    "    return(get_onclick)"
   ]
  },
  {
   "cell_type": "code",
   "execution_count": null,
   "metadata": {},
   "outputs": [],
   "source": [
    "def switch_to_tch():\n",
    "    driver.find_element_by_xpath('//*[@id=\"menu_quick02\"]').click()"
   ]
  },
  {
   "cell_type": "code",
   "execution_count": null,
   "metadata": {},
   "outputs": [],
   "source": [
    "def get_tch_home():\n",
    "    \n",
    "    tch_home =[]\n",
    "    for i in range(2,10):\n",
    "        value = '//*[@id=\"imgTec01_%d\"]' %i\n",
    "\n",
    "        driver.execute_script(driver.find_element_by_xpath(value).get_attribute('onclick'))\n",
    "\n",
    "        time.sleep(0.5)\n",
    "\n",
    "        tch_onclick=get_onclick('/html/body/div/div[9]/form/table/tbody/tr/td[3]/div[2]/table/tbody/tr/td[1]/table/tbody/tr[4]/td/div/table/tbody/tr[*]/td[*]/a')\n",
    "\n",
    "\n",
    "        for i in tch_onclick:\n",
    "            driver.execute_script(i)\n",
    "\n",
    "            time.sleep(0.5)\n",
    "\n",
    "            tch_home.extend(get_onclick('//*[@id=\"layer_quick_teacher02\"]/span[2]/a'))\n",
    "        \n",
    "    return(tch_home)\n",
    "\n"
   ]
  },
  {
   "cell_type": "code",
   "execution_count": null,
   "metadata": {},
   "outputs": [],
   "source": [
    "def get_page_url(tch_home):\n",
    "    page_url=[]\n",
    "    for i in tch_home:\n",
    "        page_url.append('https://www.megastudy.net%s' %re.split(\"'\",i)[1])\n",
    "    return(page_url)"
   ]
  },
  {
   "cell_type": "code",
   "execution_count": null,
   "metadata": {},
   "outputs": [],
   "source": [
    "def select_lec():\n",
    "    word_check=[]\n",
    "    for i in driver.find_elements_by_xpath('//*[@id=\"tecChrTabArea\"]/ul/li[*]'):\n",
    "        word_check.append(i.text)\n",
    "\n",
    "    num=word_check.index('단과강좌')+1\n",
    "\n",
    "    driver.find_element_by_xpath('//*[@id=\"tecChrTabArea\"]/ul/li[%s]' %num).click()\n",
    "\n",
    "    time.sleep(0.5)"
   ]
  },
  {
   "cell_type": "code",
   "execution_count": null,
   "metadata": {},
   "outputs": [],
   "source": [
    "def get_data_1():\n",
    "    name = []\n",
    "    title=[]\n",
    "    link=[]\n",
    "    if len(driver.find_elements_by_xpath('//*[@id=\"divChrTabArea\"]/ul/li[*]'))==0:\n",
    "\n",
    "        for i in driver.find_elements_by_xpath('//*[@id=\"iChrList\"]/table[*]/tbody/tr[*]/td[1]/a'):\n",
    "            name.append(i.text)    \n",
    "\n",
    "        for i in driver.find_elements_by_xpath('//*[@id=\"iChrList\"]/table[*]/tbody/tr[*]/td[2]/div/p[3]/a'):\n",
    "            title.append(i.text)\n",
    "            link.append(i.get_attribute('href'))\n",
    "\n",
    "        subject = driver.find_element_by_xpath('//*[@id=\"container\"]/div[1]/div[1]/h2/a[1]/span').text\n",
    "        subject = [subject]*len(title)\n",
    "    else :\n",
    "        for j in driver.find_elements_by_xpath('//*[@id=\"divChrTabArea\"]/ul/li[*]'):\n",
    "            driver.execute_script(j.find_element_by_tag_name('a').get_attribute('onclick'))\n",
    "\n",
    "            time.sleep(0.5)\n",
    "\n",
    "            for i in driver.find_elements_by_xpath('//*[@id=\"iChrList\"]/table[*]/tbody/tr[*]/td[1]/a'):\n",
    "                name.append(i.text)    \n",
    "\n",
    "            for i in driver.find_elements_by_xpath('//*[@id=\"iChrList\"]/table[*]/tbody/tr[*]/td[2]/div/p[3]/a'):\n",
    "                title.append(i.text)\n",
    "                link.append(i.get_attribute('href'))\n",
    "\n",
    "            subject = driver.find_element_by_xpath('//*[@id=\"container\"]/div[1]/div[1]/h2/a[1]/span').text\n",
    "            subject = [subject]*len(title)\n",
    "            \n",
    "    return(name, title, link)\n",
    "\n",
    "        "
   ]
  },
  {
   "cell_type": "code",
   "execution_count": null,
   "metadata": {},
   "outputs": [],
   "source": [
    "def get_data_2(link):\n",
    "    data_2=[]\n",
    "    num= 0\n",
    "    for i in link:\n",
    "        print(i)\n",
    "        num=num+1\n",
    "        print(num,'/',len(link))\n",
    "        \n",
    "        table=pd.read_html(i)\n",
    "        for t in table:\n",
    "            if list(t)==['강의명','맛보기']:\n",
    "                sample=t.iloc[:,0]\n",
    "                break\n",
    "        list1=list(range(1,len(sample)+1))\n",
    "        list2= list(sample)\n",
    "        \n",
    "        try:\n",
    "            data_2.append([','.join(['(' + str(a) + ', ' + b+')' for a,b in zip(list1,list2)])])\n",
    "        except:\n",
    "            index_value= list(pd.isnull(list2)).index(True)\n",
    "            list2.pop(index_value)\n",
    "            list2.pop(index_value)\n",
    "            \n",
    "            data_2.append([','.join(['(' + str(a) + ', ' + b+')' for a,b in zip(list1,list2)])])\n",
    "    \n",
    "    return(data_2)"
   ]
  },
  {
   "cell_type": "code",
   "execution_count": null,
   "metadata": {},
   "outputs": [],
   "source": [
    "def get_sub(lec_link):\n",
    "    sub=[]\n",
    "    num=0\n",
    "    for i in lec_link:\n",
    "        num=num+1\n",
    "        \n",
    "        print(num, '/', len(lec_link))\n",
    "        \n",
    "        res=requests.get(i,headers=header)\n",
    "        soup=BeautifulSoup(res.content, 'html.parser',from_encoding='cp949')\n",
    "        value=soup.find('p',{'class':'lstedu_bookinfo--teacher'}).find('strong').a.text\n",
    "        sub.append(re.sub('[^가-힣]','',re.split(']', value)[0]))\n",
    "\n",
    "    return(sub)"
   ]
  },
  {
   "cell_type": "code",
   "execution_count": null,
   "metadata": {},
   "outputs": [],
   "source": [
    "def get_id(lec_link):\n",
    "    lec_id=[]\n",
    "    tch_id=[]\n",
    "    for i in lec_link:\n",
    "        lec_id.append(re.split('&',re.split('=',lec_link[0])[1])[0])\n",
    "        tch_id.append(re.split('=',lec_link[0])[3])\n",
    "    return(lec_id,tch_id)"
   ]
  },
  {
   "cell_type": "code",
   "execution_count": null,
   "metadata": {},
   "outputs": [],
   "source": [
    "def get_complete(lec_link):\n",
    "    complete=[]\n",
    "    for i in lec_link:\n",
    "        if re.split('&',re.split('=',i)[2])[0]=='1':\n",
    "            complete.append('O')\n",
    "        else:\n",
    "            complete.append('X')\n",
    "    return(complete)"
   ]
  },
  {
   "cell_type": "code",
   "execution_count": null,
   "metadata": {},
   "outputs": [],
   "source": [
    "driver = open_chromedriver()"
   ]
  },
  {
   "cell_type": "code",
   "execution_count": null,
   "metadata": {},
   "outputs": [],
   "source": [
    "driver.get('https://www.megastudy.net/')"
   ]
  },
  {
   "cell_type": "code",
   "execution_count": null,
   "metadata": {},
   "outputs": [],
   "source": [
    "open_popup()"
   ]
  },
  {
   "cell_type": "code",
   "execution_count": null,
   "metadata": {},
   "outputs": [],
   "source": [
    "change_frame()"
   ]
  },
  {
   "cell_type": "code",
   "execution_count": null,
   "metadata": {},
   "outputs": [],
   "source": [
    "switch_to_tch()"
   ]
  },
  {
   "cell_type": "code",
   "execution_count": null,
   "metadata": {},
   "outputs": [],
   "source": [
    "tch_home=get_tch_home()"
   ]
  },
  {
   "cell_type": "code",
   "execution_count": null,
   "metadata": {},
   "outputs": [],
   "source": [
    "page_url=get_page_url(tch_home)"
   ]
  },
  {
   "cell_type": "code",
   "execution_count": null,
   "metadata": {},
   "outputs": [],
   "source": [
    "### 기존 프레임으로 전환\n",
    "driver.switch_to.parent_frame()"
   ]
  },
  {
   "cell_type": "code",
   "execution_count": null,
   "metadata": {},
   "outputs": [],
   "source": [
    "tch_name =[]\n",
    "title = []\n",
    "lec_link = []\n",
    "num = 0\n",
    "for i in page_url:\n",
    "    num =num+1\n",
    "    driver.get(i)\n",
    "    \n",
    "    time.sleep(1)\n",
    "    \n",
    "    try:\n",
    "        select_lec()\n",
    "    \n",
    "        [x.extend(y) for x,y in zip([tch_name, title, lec_link], get_data_1())]\n",
    "    except:\n",
    "        pass\n",
    "    \n",
    "    print(num,'/',len(page_url))"
   ]
  },
  {
   "cell_type": "code",
   "execution_count": null,
   "metadata": {},
   "outputs": [],
   "source": [
    "sub = get_sub_tch_id(lec_link)"
   ]
  },
  {
   "cell_type": "code",
   "execution_count": null,
   "metadata": {},
   "outputs": [],
   "source": [
    "data_2 = get_data_2(lec_link)"
   ]
  },
  {
   "cell_type": "code",
   "execution_count": null,
   "metadata": {},
   "outputs": [],
   "source": [
    "lec_id,tch_id=get_id(lec_link)"
   ]
  },
  {
   "cell_type": "code",
   "execution_count": null,
   "metadata": {},
   "outputs": [],
   "source": [
    "complete=get_complete(lec_link)"
   ]
  },
  {
   "cell_type": "code",
   "execution_count": null,
   "metadata": {},
   "outputs": [],
   "source": [
    "data = pd.DataFrame({'사이트':['메가스터디']*len(sub),'과목':sub,'선생님':tch_name,'선생님ID':tch_id,'강좌명':title,'강좌ID':lec_id,'완강여부':complete,'강의번호&챕터명&시간':data_2,'링크':lec_link})"
   ]
  }
 ],
 "metadata": {
  "kernelspec": {
   "display_name": "Python 3",
   "language": "python",
   "name": "python3"
  },
  "language_info": {
   "codemirror_mode": {
    "name": "ipython",
    "version": 3
   },
   "file_extension": ".py",
   "mimetype": "text/x-python",
   "name": "python",
   "nbconvert_exporter": "python",
   "pygments_lexer": "ipython3",
   "version": "3.8.5"
  }
 },
 "nbformat": 4,
 "nbformat_minor": 4
}
