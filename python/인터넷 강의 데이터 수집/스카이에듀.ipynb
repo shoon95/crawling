{
 "cells": [
  {
   "cell_type": "code",
   "execution_count": null,
   "metadata": {},
   "outputs": [],
   "source": [
    "import chromedriver_autoinstaller\n",
    "from selenium import webdriver\n",
    "import pandas as pd\n",
    "import re\n",
    "import math\n",
    "import time\n",
    "import os, sys\n",
    "import requests\n",
    "import numpy as np\n",
    "from bs4 import BeautifulSoup as bs\n",
    "from selenium.webdriver.common.action_chains import ActionChains\n"
   ]
  },
  {
   "cell_type": "code",
   "execution_count": null,
   "metadata": {},
   "outputs": [],
   "source": [
    "def open_chromedriver():\n",
    "    chrome = chromedriver_autoinstaller.install(os.getcwd())\n",
    "\n",
    "    options = webdriver.ChromeOptions()\n",
    "    options.headless = True\n",
    "\n",
    "    driver = webdriver.Chrome(options=options)\n",
    "    return(driver)\n"
   ]
  },
  {
   "cell_type": "code",
   "execution_count": null,
   "metadata": {},
   "outputs": [],
   "source": [
    "def get_tch_home():\n",
    "    num= 0\n",
    "    tch_link=[]\n",
    "    for i in driver.find_elements_by_xpath('//*[@id=\"container\"]/div/div[2]/ul/li[*]'):\n",
    "        num=num+1\n",
    "\n",
    "        i.click()\n",
    "\n",
    "        time.sleep(1)\n",
    "\n",
    "        if num <5:\n",
    "            for i in driver.find_elements_by_xpath('//*[@id=\"teacher_tab_cont\"]/div[2]/ul/li[*]/ul/li[*]/div/a'):\n",
    "                tch_link.append(i.get_attribute('href'))\n",
    "        else:\n",
    "            for i in driver.find_elements_by_xpath('//*[@id=\"teacher_tab_cont\"]/div[2]/ul/li[*]/dl/dd[*]/a'):\n",
    "                tch_link.append(i.get_attribute('href'))\n",
    "                \n",
    "    return(list(set(tch_link)))\n",
    "        \n",
    "    "
   ]
  },
  {
   "cell_type": "code",
   "execution_count": null,
   "metadata": {},
   "outputs": [],
   "source": [
    "def get_tch_lec_link():\n",
    "    tch_lec_link=[]\n",
    "    for i in tch_link:\n",
    "        tch_lec_link.append(re.sub('home?','lecList/',i))\n",
    "    return(tch_lec_link)"
   ]
  },
  {
   "cell_type": "code",
   "execution_count": null,
   "metadata": {},
   "outputs": [],
   "source": [
    "def get_lec_link():\n",
    "    lec_link=[]\n",
    "    for i in driver.find_elements_by_xpath('//*[@id=\"container\"]/div[2]/div/div/div/ul/li[*]'):\n",
    "        i.click()\n",
    "\n",
    "        time.sleep(1)\n",
    "\n",
    "\n",
    "        for j in driver.find_element_by_xpath('//*[@id=\"lectureLis\"]').find_elements_by_class_name('summary-info'):\n",
    "                lec_link.append(j.find_element_by_tag_name('a').get_attribute('href'))\n",
    "                print(j.find_element_by_tag_name('a').text)\n",
    "\n",
    "    return(lec_link)"
   ]
  },
  {
   "cell_type": "code",
   "execution_count": null,
   "metadata": {},
   "outputs": [],
   "source": [
    "#선생님 이름\n",
    "\n",
    "def get_tch_name():\n",
    "    return(driver.find_element_by_class_name('name').text)"
   ]
  },
  {
   "cell_type": "code",
   "execution_count": null,
   "metadata": {},
   "outputs": [],
   "source": [
    "#과목\n",
    "\n",
    "def get_sub():\n",
    "    return(driver.find_element_by_xpath('//*[@id=\"container\"]/div[1]/div[2]/div[2]/div/div[1]/div[2]/div[2]/div[2]/table/tbody/tr[1]/td[1]').text)"
   ]
  },
  {
   "cell_type": "code",
   "execution_count": null,
   "metadata": {},
   "outputs": [],
   "source": [
    "#선생님 id\n",
    "\n",
    "def get_tch_id():\n",
    "    try:\n",
    "        value_1=re.split('=',driver.find_element_by_xpath('//*[@id=\"container\"]/div[1]/div[1]/div/div[1]/ul/li[2]').get_attribute('onclick'))[1]\n",
    "        return(re.split('&',value_1)[0])\n",
    "    except:\n",
    "        return('선생님ID 없음')\n",
    "    "
   ]
  },
  {
   "cell_type": "code",
   "execution_count": null,
   "metadata": {},
   "outputs": [],
   "source": [
    "driver.find_element_by_xpath('//*[@id=\"container\"]/div[1]/div[1]/div/div[1]/ul/li[2]').get_attribute('onclick')"
   ]
  },
  {
   "cell_type": "code",
   "execution_count": null,
   "metadata": {},
   "outputs": [],
   "source": [
    "#강좌명 \n",
    "\n",
    "def get_lec_name():\n",
    "    return(driver.find_element_by_class_name('tit-courses').text)"
   ]
  },
  {
   "cell_type": "code",
   "execution_count": null,
   "metadata": {},
   "outputs": [],
   "source": [
    "#강의ID\n",
    "\n",
    "def get_lec_id():\n",
    "    return(re.sub('[^0-9]','',driver.current_url))"
   ]
  },
  {
   "cell_type": "code",
   "execution_count": null,
   "metadata": {},
   "outputs": [],
   "source": [
    "#완강 여부\n",
    "\n",
    "def get_complete():\n",
    "    if re.findall('완강',driver.find_element_by_xpath('//*[@id=\"container\"]/div[1]/div[2]/div[2]/div/div[1]/div[2]/div[2]/div[2]/table/tbody/tr[2]/td[2]').text)==['완강']:\n",
    "        complete = 'O'\n",
    "    else:\n",
    "        complete = 'X'\n",
    "    return(complete)"
   ]
  },
  {
   "cell_type": "code",
   "execution_count": null,
   "metadata": {},
   "outputs": [],
   "source": [
    "#강의 정보 가져오기\n",
    "\n",
    "def get_data_2():\n",
    "    \n",
    "    lec_num = int(re.sub('[^0-9]','',driver.find_element_by_xpath('//*[@id=\"container\"]/div[1]/div[2]/div[2]/div/div[1]/div[2]/div[3]/div/h3/span').text))\n",
    "\n",
    "    num=0\n",
    "    data_2=[]\n",
    "    list1=[]\n",
    "    list2=[]\n",
    "    list3=[]\n",
    "    while True:\n",
    "\n",
    "        for i in driver.find_elements_by_xpath('//*[@id=\"course_list_1\"]/ol/li[*]/span[1]'):\n",
    "            list1.append(i.text)\n",
    "\n",
    "\n",
    "        for i in driver.find_elements_by_xpath('//*[@id=\"course_list_1\"]/ol/li[*]/strong'):\n",
    "            list2.append(i.text)\n",
    "\n",
    "\n",
    "        for i in driver.find_elements_by_xpath('//*[@id=\"course_list_1\"]/ol/li[*]/span[2]'):\n",
    "            list3.append(i.text)\n",
    "\n",
    "        num=num+1\n",
    "        \n",
    "        if lec_num//10==0:\n",
    "            break\n",
    "        \n",
    "        try:\n",
    "            driver.find_element_by_class_name('next').click()\n",
    "        except:\n",
    "            break\n",
    "\n",
    "        time.sleep(0.3)\n",
    "\n",
    "\n",
    "    list1=list(filter(('').__ne__, list1))\n",
    "    list2=list(filter(('').__ne__, list2))\n",
    "    list3=list(filter(('').__ne__, list3))\n",
    "    data_2.append([','.join(['(' + str(a) + ', ' + b+', ' + c+')' for a,b,c in zip(list1,list2,list3)])])\n",
    "    \n",
    "    return(data_2)"
   ]
  },
  {
   "cell_type": "code",
   "execution_count": null,
   "metadata": {},
   "outputs": [],
   "source": [
    "driver = open_chromedriver()"
   ]
  },
  {
   "cell_type": "code",
   "execution_count": null,
   "metadata": {},
   "outputs": [],
   "source": [
    "driver.get('https://skyedu.conects.com/teachers/')"
   ]
  },
  {
   "cell_type": "code",
   "execution_count": null,
   "metadata": {},
   "outputs": [],
   "source": [
    "time.sleep(3)"
   ]
  },
  {
   "cell_type": "code",
   "execution_count": null,
   "metadata": {},
   "outputs": [],
   "source": [
    "tch_link = get_tch_home()"
   ]
  },
  {
   "cell_type": "code",
   "execution_count": null,
   "metadata": {},
   "outputs": [],
   "source": [
    "tch_lec_link = get_tch_lec_link()"
   ]
  },
  {
   "cell_type": "code",
   "execution_count": null,
   "metadata": {},
   "outputs": [],
   "source": [
    "num=0\n",
    "lec_link=[]\n",
    "for i in tch_lec_link:\n",
    "    num=num+1\n",
    "    print(num,'/',len(tch_lec_link))\n",
    "\n",
    "    driver.get(i)\n",
    "\n",
    "    time.sleep(1)\n",
    "\n",
    "    lec_link.extend(get_lec_link())\n",
    "\n",
    "    "
   ]
  },
  {
   "cell_type": "code",
   "execution_count": null,
   "metadata": {},
   "outputs": [],
   "source": [
    "lec_link = list(set(lec_link))\n",
    "lec_link = [item for item in lec_link if item != 'javascript:;' ]"
   ]
  },
  {
   "cell_type": "code",
   "execution_count": null,
   "metadata": {},
   "outputs": [],
   "source": [
    "data_2=[]\n",
    "num=0\n",
    "tch_name =[]\n",
    "sub = []\n",
    "tch_id = []\n",
    "lec_name =[]\n",
    "lec_id = []\n",
    "complete=[]\n",
    "\n",
    "for i in lec_link:\n",
    "    num=num+1\n",
    "    driver.get(i)\n",
    "    \n",
    "    time.sleep(0.5)\n",
    "    \n",
    "    tch_name.append(get_tch_name())\n",
    "    sub.append(get_sub())\n",
    "    tch_id.append(get_tch_id())\n",
    "    lec_name.append(get_lec_name())\n",
    "    lec_id.append(get_lec_id())\n",
    "    complete.append(get_complete())\n",
    "    \n",
    "    data_2.extend(get_data_2())\n",
    "    \n",
    "    print(num,'/',len(lec_link))"
   ]
  },
  {
   "cell_type": "code",
   "execution_count": null,
   "metadata": {},
   "outputs": [],
   "source": [
    "data_2=[]\n",
    "num=0\n",
    "tch_name =[]\n",
    "sub = []\n",
    "tch_id = []\n",
    "lec_name =[]\n",
    "lec_id = []\n",
    "complete=[]\n",
    "\n",
    "for i in lec_link:\n",
    "    num=num+1\n",
    "    driver.get(i)\n",
    "    \n",
    "    time.sleep(0.5)\n",
    "    \n",
    "    tch_name.append(get_tch_name())\n",
    "    sub.append(get_sub())\n",
    "    tch_id.append(get_tch_id())\n",
    "    lec_name.append(get_lec_name())\n",
    "    lec_id.append(get_lec_id())\n",
    "    complete.append(get_complete())\n",
    "    \n",
    "    data_2.extend(get_data_2())\n",
    "    \n",
    "    print(num,'/',len(lec_link))"
   ]
  },
  {
   "cell_type": "code",
   "execution_count": null,
   "metadata": {},
   "outputs": [],
   "source": [
    "data = pd.DataFrame({'사이트':['스카이에듀']*len(sub),'과목':sub,'선생님':tch_name,'선생님ID':tch_id,'강좌명':lec_name,'강좌ID':lec_id,'완강여부':complete,'강의번호&챕터명&시간':data_2,'링크':lec_link})"
   ]
  },
  {
   "cell_type": "code",
   "execution_count": null,
   "metadata": {},
   "outputs": [],
   "source": [
    "data"
   ]
  },
  {
   "cell_type": "code",
   "execution_count": null,
   "metadata": {},
   "outputs": [],
   "source": [
    "writer = pd.ExcelWriter(r'스카이에듀.xlsx', engine='xlsxwriter', options={'strings_to_urls': True})\n",
    "data.to_excel(writer)\n",
    "writer.close()"
   ]
  }
 ],
 "metadata": {
  "kernelspec": {
   "display_name": "Python 3",
   "language": "python",
   "name": "python3"
  },
  "language_info": {
   "codemirror_mode": {
    "name": "ipython",
    "version": 3
   },
   "file_extension": ".py",
   "mimetype": "text/x-python",
   "name": "python",
   "nbconvert_exporter": "python",
   "pygments_lexer": "ipython3",
   "version": "3.8.5"
  }
 },
 "nbformat": 4,
 "nbformat_minor": 4
}
